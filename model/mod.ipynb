{
 "cells": [
  {
   "cell_type": "code",
   "execution_count": 1,
   "id": "62ce3242",
   "metadata": {},
   "outputs": [],
   "source": [
    "import torch\n",
    "from torch.utils.data import DataLoader, Dataset, WeightedRandomSampler\n",
    "from torch import nn\n",
    "from torch.nn import functional\n",
    "from PIL import Image\n",
    "import os\n",
    "from torchvision import datasets, transforms, models\n",
    "from collections import defaultdict\n",
    "import albumentations as A\n",
    "import numpy as np\n",
    "import cv2"
   ]
  },
  {
   "cell_type": "markdown",
   "id": "495a5701",
   "metadata": {},
   "source": [
    "### Finding different shapes and channels of images in the dataset"
   ]
  },
  {
   "cell_type": "code",
   "execution_count": 2,
   "id": "c05d8c1b",
   "metadata": {},
   "outputs": [
    {
     "name": "stdout",
     "output_type": "stream",
     "text": [
      "image shape length - 639 and mask shape length - 639\n",
      "number of channels - 3\n",
      "channels - {'RGBA', 'RGB', '1'}\n"
     ]
    }
   ],
   "source": [
    "folder_path = r'D:\\Suchit\\Breast-Cancer-Detection\\Dataset_BUSI_with_GT'\n",
    "image_shapes, mask_shapes = set(), set()\n",
    "channels = set()\n",
    "images, masks = [], []\n",
    "for folder in os.listdir(folder_path):\n",
    "    for image in os.listdir(os.path.join(folder_path, folder)):\n",
    "        with Image.open(os.path.join(folder_path, folder, image)) as img:\n",
    "            if 'mask' in image:\n",
    "                mask_shapes.add(img.size)\n",
    "                masks.append(os.path.join(folder_path, folder, image))\n",
    "            else:\n",
    "                image_shapes.add(img.size)\n",
    "                images.append(os.path.join(folder_path, folder, image))\n",
    "            channels.add(img.mode)\n",
    "print(\n",
    "    f'image shape length - {len(image_shapes)} and mask shape length - {len(mask_shapes)}')\n",
    "print(f'number of channels - {len(channels)}')\n",
    "print(f'channels - {channels}')"
   ]
  },
  {
   "cell_type": "markdown",
   "id": "d36eff8b",
   "metadata": {},
   "source": [
    "### Finding the average height and width of the images to resize them"
   ]
  },
  {
   "cell_type": "code",
   "execution_count": 3,
   "id": "c64e5033",
   "metadata": {},
   "outputs": [
    {
     "name": "stdout",
     "output_type": "stream",
     "text": [
      "average height = 501.4525641025641\n",
      "average width = 615.6794871794872\n"
     ]
    }
   ],
   "source": [
    "folder_path = r'D:\\Suchit\\Breast-Cancer-Detection\\Dataset_BUSI_with_GT'\n",
    "height, width, num_samples = 0.0, 0.0, 0.0\n",
    "for folder in os.listdir(folder_path):\n",
    "    for image in os.listdir(os.path.join(folder_path, folder)):\n",
    "        with Image.open(os.path.join(folder_path, folder, image)) as img:\n",
    "            if 'mask' not in image:\n",
    "                size = img.size\n",
    "                height += size[1]\n",
    "                width += size[0]\n",
    "                num_samples += 1\n",
    "height /= num_samples\n",
    "width /= num_samples\n",
    "print(f'average height = {height}')\n",
    "print(f'average width = {width}')"
   ]
  },
  {
   "cell_type": "markdown",
   "id": "bfe2f6cd",
   "metadata": {},
   "source": [
    "Height and width is too large. Taking 256 * 256"
   ]
  },
  {
   "cell_type": "markdown",
   "id": "828f3200",
   "metadata": {},
   "source": [
    "### Finding the mean and standard deviation of the input images"
   ]
  },
  {
   "cell_type": "code",
   "execution_count": 4,
   "id": "d8071d1c",
   "metadata": {},
   "outputs": [
    {
     "name": "stdout",
     "output_type": "stream",
     "text": [
      "Calculating grayscale statistics...\n",
      "Found 780 images for statistics calculation\n",
      "Grayscale mean = 0.3279, std = 0.1998\n"
     ]
    }
   ],
   "source": [
    "def calculate_grayscale_stats(folder_path, resize_shape=(256, 256)):\n",
    "    \"\"\"Calculate mean and std for grayscale images\"\"\"\n",
    "    print(\"Calculating grayscale statistics...\")\n",
    "\n",
    "    # Simple transform for grayscale statistics calculation\n",
    "    transform = transforms.Compose([\n",
    "        transforms.Grayscale(num_output_channels=1),\n",
    "        transforms.Resize(resize_shape),\n",
    "        transforms.ToTensor()\n",
    "    ])\n",
    "\n",
    "    class GrayscaleImageData(Dataset):\n",
    "        def __init__(self, images, transform):\n",
    "            self.images = images\n",
    "            self.transform = transform\n",
    "\n",
    "        def __len__(self):\n",
    "            return len(self.images)\n",
    "\n",
    "        def __getitem__(self, index):\n",
    "            img_path = self.images[index]\n",
    "            image = Image.open(img_path)\n",
    "            return self.transform(image)\n",
    "\n",
    "    # Get image paths (exclude masks)\n",
    "    images = []\n",
    "    for folder in os.listdir(folder_path):\n",
    "        for image in os.listdir(os.path.join(folder_path, folder)):\n",
    "            if 'mask' not in image:\n",
    "                images.append(os.path.join(folder_path, folder, image))\n",
    "\n",
    "    print(f\"Found {len(images)} images for statistics calculation\")\n",
    "\n",
    "    dataset = GrayscaleImageData(images, transform)\n",
    "    loader = DataLoader(dataset, batch_size=64, shuffle=False)\n",
    "\n",
    "    mean, std, num_samples = 0.0, 0.0, 0.0\n",
    "\n",
    "    for data in loader:\n",
    "        batch_size = data.size(0)\n",
    "        data = data.view(batch_size, data.size(1), -1)\n",
    "        mean += data.mean(2).sum(0)\n",
    "        std += data.std(2).sum(0)\n",
    "        num_samples += batch_size\n",
    "\n",
    "    mean /= num_samples\n",
    "    std /= num_samples\n",
    "\n",
    "    return mean.item(), std.item()\n",
    "\n",
    "\n",
    "# Step 2: Calculate grayscale statistics for your dataset\n",
    "grayscale_mean, grayscale_std = calculate_grayscale_stats(folder_path)\n",
    "print(f'Grayscale mean = {grayscale_mean:.4f}, std = {grayscale_std:.4f}')"
   ]
  },
  {
   "cell_type": "markdown",
   "id": "8696dbce",
   "metadata": {},
   "source": [
    "### Managing the dataset"
   ]
  },
  {
   "cell_type": "code",
   "execution_count": 5,
   "id": "e97e944b",
   "metadata": {},
   "outputs": [],
   "source": [
    "from albumentations.pytorch import ToTensorV2\n",
    "\n",
    "\n",
    "class Data(Dataset):\n",
    "    def __init__(self, folder_path, transforms):\n",
    "        super().__init__()\n",
    "        self.images, self.masks, self.category = [], defaultdict(list), []\n",
    "        classes = {'benign': 0, 'malignant': 1, 'normal': 2}\n",
    "        self.transforms = transforms\n",
    "\n",
    "        for folder in os.listdir(folder_path):\n",
    "            for image in os.listdir(os.path.join(folder_path, folder)):\n",
    "                img_path = os.path.join(folder_path, folder, image)\n",
    "                if 'mask' in image:\n",
    "                    self.masks[image[: image.index('_mask')]].append(img_path)\n",
    "                else:\n",
    "                    self.images.append(img_path)\n",
    "                    self.category.append(classes[folder])\n",
    "\n",
    "    def __len__(self):\n",
    "        return len(self.images)\n",
    "\n",
    "    def __getitem__(self, index):\n",
    "        image_path = self.images[index]\n",
    "        key = os.path.basename(image_path)[\n",
    "            : os.path.basename(image_path).index('.png')]\n",
    "        mask_paths = self.masks[key]\n",
    "\n",
    "        # Load image and masks as numpy arrays\n",
    "        image = np.array(Image.open(image_path).convert('L'))\n",
    "        masks = [np.array(Image.open(x).convert('L')) for x in mask_paths]\n",
    "\n",
    "        # Combine masks\n",
    "        mask = np.sum(np.stack(masks), axis=0)\n",
    "        mask = np.clip(mask, 0, 1)  # ensure binary\n",
    "\n",
    "        # Apply albumentations\n",
    "        if self.transforms:\n",
    "            augmented = self.transforms(image=image, mask=mask)\n",
    "            image = augmented['image']\n",
    "            mask = augmented['mask']\n",
    "\n",
    "        return image, mask, self.category[index]\n",
    "\n",
    "\n",
    "transform = A.Compose([\n",
    "    A.Resize(256, 256),\n",
    "    A.HorizontalFlip(p=0.5),\n",
    "    A.Normalize(mean=[grayscale_mean], std=[grayscale_std]),\n",
    "    ToTensorV2()\n",
    "])\n",
    "\n",
    "dataset = Data(folder_path, transform)"
   ]
  },
  {
   "cell_type": "markdown",
   "id": "d05ed3d7",
   "metadata": {},
   "source": [
    "### Calculating positive weight to upweight the positive pixels in BCE loss"
   ]
  },
  {
   "cell_type": "code",
   "execution_count": 6,
   "id": "c41b07e5",
   "metadata": {},
   "outputs": [
    {
     "name": "stdout",
     "output_type": "stream",
     "text": [
      "Estimated positive weight = 11.776581764221191\n"
     ]
    }
   ],
   "source": [
    "def estimate_pos_weight(dataset):\n",
    "    loader = DataLoader(dataset= dataset, batch_size=16, shuffle= False)\n",
    "    pos, neg = 0, 0\n",
    "    with torch.no_grad():\n",
    "        for _, mask, _ in loader:\n",
    "            mask = mask.flatten()\n",
    "            mask = (mask > 0)\n",
    "            pos += mask.sum().item()\n",
    "            neg += mask.numel() - mask.sum().item()\n",
    "    if pos == 0:\n",
    "        return torch.tensor(1.0)\n",
    "    return torch.tensor(neg / pos)\n",
    "\n",
    "# making counting transforms for counting the pos weights\n",
    "\n",
    "count_transform = A.Compose([\n",
    "    A.Resize(256, 256, interpolation= cv2.INTER_NEAREST, mask_interpolation= cv2.INTER_NEAREST),\n",
    "    A.Normalize(mean = [grayscale_mean], std= [grayscale_std]),\n",
    "    A.pytorch.ToTensorV2()\n",
    "])\n",
    "count_dataset = Data(folder_path= folder_path, transforms= count_transform)\n",
    "pos_weight = estimate_pos_weight(count_dataset)\n",
    "pos_weight = pos_weight.to('cuda')\n",
    "print(f'Estimated positive weight = {pos_weight}')"
   ]
  },
  {
   "cell_type": "markdown",
   "id": "f6fae8b0",
   "metadata": {},
   "source": [
    "### Model"
   ]
  },
  {
   "cell_type": "code",
   "execution_count": 7,
   "id": "53d1a351",
   "metadata": {},
   "outputs": [],
   "source": [
    "def init_unet_kaiming(module):\n",
    "    if isinstance(module, (nn.Conv2d, nn.ConvTranspose2d)):\n",
    "        if module.weight is not None:\n",
    "            nn.init.kaiming_normal_(module.weight, nonlinearity= 'relu')\n",
    "        if module.bias is not None:\n",
    "            nn.init.zeros_(module.bias)\n",
    "    elif isinstance(module, nn.Linear):\n",
    "        if module.weight is not None:\n",
    "            nn.init.kaiming_normal_(module.weight, nonlinearity= 'relu')\n",
    "        if module.bias is not None:\n",
    "            nn.init.zeros_(module.bias)\n",
    "    elif isinstance(module, nn.BatchNorm2d):\n",
    "        if getattr(module, 'weight', None) is not None:\n",
    "            nn.init.ones_(module.weight)\n",
    "        if getattr(module, 'bias', None) is not None:\n",
    "            nn.init.zeros_(module.bias)\n",
    "\n",
    "def zero_init_seg_head(head):\n",
    "    if isinstance(head, nn.Conv2d):\n",
    "        nn.init.zeros_(head.weight)\n",
    "        if head.bias is not None:\n",
    "            nn.init.zeros_(head.bias)\n",
    "\n",
    "class DoubleConv(nn.Module):\n",
    "    def __init__(self, in_channels, out_channels):\n",
    "        super().__init__()\n",
    "        self.conv = nn.Sequential(\n",
    "            nn.Conv2d(in_channels, out_channels,\n",
    "                      kernel_size=3, padding=1, stride=1),\n",
    "            nn.BatchNorm2d(out_channels),\n",
    "            nn.ReLU(),\n",
    "            nn.Conv2d(out_channels, out_channels,\n",
    "                      kernel_size=3, padding=1, stride=1),\n",
    "            nn.BatchNorm2d(out_channels),\n",
    "            nn.ReLU()\n",
    "        )\n",
    "\n",
    "    def forward(self, x):\n",
    "        return self.conv(x)\n",
    "\n",
    "\n",
    "class UNetWithClassifier(nn.Module):\n",
    "    def __init__(self, in_channels=1, seg_out_channels=1, num_classes=3, p_drop=0.2):\n",
    "        super().__init__()\n",
    "        # Encoder\n",
    "        self.down1 = DoubleConv(in_channels, 64)\n",
    "        self.pool1 = nn.MaxPool2d(2)\n",
    "        self.down2 = DoubleConv(64, 128)\n",
    "        self.pool2 = nn.MaxPool2d(2)\n",
    "        self.down3 = DoubleConv(128, 256)\n",
    "        self.pool3 = nn.MaxPool2d(2)\n",
    "\n",
    "        # Bottleneck\n",
    "        self.bottleneck = DoubleConv(256, 512)\n",
    "\n",
    "        # Decoder (with concatenations)\n",
    "        self.up3 = nn.ConvTranspose2d(512, 256, 2, 2)\n",
    "        self.dec3 = DoubleConv(512, 256)   # 512 up + 512 skip\n",
    "\n",
    "        self.up2 = nn.ConvTranspose2d(256, 128, 2, 2)\n",
    "        self.dec2 = DoubleConv(256, 128)    # 256 up + 256 skip\n",
    "\n",
    "        self.up1 = nn.ConvTranspose2d(128, 64, 2, 2)\n",
    "        self.dec1 = DoubleConv(128, 64)     # 64 up + 64 skip\n",
    "\n",
    "        self.seg_head = nn.Conv2d(64, seg_out_channels, kernel_size=1)\n",
    "\n",
    "        # Classification head on bottleneck features\n",
    "        self.gap = nn.AdaptiveAvgPool2d(1)\n",
    "        self.cls_head = nn.Sequential(\n",
    "            nn.Flatten(),\n",
    "            nn.Linear(512, 256, bias=True),\n",
    "            nn.Dropout(p_drop),\n",
    "            nn.ReLU(),\n",
    "            nn.Linear(256, num_classes)\n",
    "        )\n",
    "        self.apply(init_unet_kaiming)\n",
    "        zero_init_seg_head(self.seg_head)\n",
    "\n",
    "    def forward(self, x):\n",
    "        d1 = self.down1(x)\n",
    "        p1 = self.pool1(d1)\n",
    "\n",
    "        d2 = self.down2(p1)\n",
    "        p2 = self.pool2(d2)\n",
    "\n",
    "        d3 = self.down3(p2)\n",
    "        p3 = self.pool3(d3)\n",
    "\n",
    "        bn = self.bottleneck(p3)\n",
    "\n",
    "        u3 = self.up3(bn)\n",
    "        u3 = torch.cat([u3, d3], dim=1)\n",
    "        u3 = self.dec3(u3)\n",
    "\n",
    "        u2 = self.up2(u3)\n",
    "        u2 = torch.cat([u2, d2], dim=1)\n",
    "        u2 = self.dec2(u2)\n",
    "\n",
    "        u1 = self.up1(u2)\n",
    "        u1 = torch.cat([u1, d1], dim=1)\n",
    "        u1 = self.dec1(u1)\n",
    "\n",
    "        seg_logits = self.seg_head(u1)\n",
    "        cls_logits = self.cls_head(self.gap(bn))\n",
    "        return seg_logits, cls_logits"
   ]
  },
  {
   "cell_type": "markdown",
   "id": "09dd28d2",
   "metadata": {},
   "source": [
    "### Loss function"
   ]
  },
  {
   "cell_type": "code",
   "execution_count": 8,
   "id": "84ea128a",
   "metadata": {},
   "outputs": [],
   "source": [
    "class DiceLoss(nn.Module):\n",
    "    def __init__(self, smooth = 1e-6):\n",
    "        super().__init__()\n",
    "        self.smooth = smooth\n",
    "    def forward(self, output_mask, targets):\n",
    "        targets = targets.float()\n",
    "        probs = torch.sigmoid(output_mask)\n",
    "        # no. of batches\n",
    "        B = output_mask.shape[0]\n",
    "        probs_flatten = probs.view(B, -1)\n",
    "        targs_flatten = targets.view(B, -1)\n",
    "        intersection = (probs_flatten * targs_flatten).sum(dim = 1)\n",
    "        p_sum = probs_flatten.sum(dim = 1)\n",
    "        t_sum = targs_flatten.sum(dim = 1)\n",
    "        # identifying empty target images\n",
    "        empty = (t_sum == 0)\n",
    "        # standard dice for non empty\n",
    "        dice_non_empty = (2 * intersection + self.smooth) / (p_sum + t_sum + self.smooth)\n",
    "        # defining dice for empty target images\n",
    "        # if predictions also empty -> 1, else -> (smooth) / (psum + smooth)\n",
    "        dice_empty = torch.where((p_sum == 0), torch.ones_like(p_sum), (self.smooth) / (p_sum + self.smooth))\n",
    "        dice = torch.where(empty, dice_empty, dice_non_empty)\n",
    "        return 1 - dice.mean()\n",
    "    \n",
    "class MultiTaskLoss(nn.Module):\n",
    "    def __init__(self, bce_pos_weight):\n",
    "        super().__init__()\n",
    "        self.seg_weight = 1.0\n",
    "        self.cls_weight = 0.5\n",
    "        self.bce_weight = 0.5\n",
    "        self.dice_weight = 0.5\n",
    "        self.bce = nn.BCEWithLogitsLoss(pos_weight= bce_pos_weight)\n",
    "        self.dice = DiceLoss()\n",
    "        self.crossentropy = nn.CrossEntropyLoss()\n",
    "    def forward(self, output_mask, target_mask, output_class_logits, class_logits):\n",
    "        loss_bce = self.bce(output_mask, target_mask)\n",
    "        loss_dice = self.dice(output_mask, target_mask)\n",
    "        \n",
    "        loss_mask = self.bce_weight * loss_bce + self.dice_weight * loss_dice\n",
    "\n",
    "        loss_classification = self.crossentropy(output_class_logits  , class_logits.long())\n",
    "\n",
    "        total = self.seg_weight * loss_mask + self.cls_weight * loss_classification\n",
    "\n",
    "        return total\n",
    "\n"
   ]
  },
  {
   "cell_type": "markdown",
   "id": "cfaddd36",
   "metadata": {},
   "source": [
    "### Initializations"
   ]
  },
  {
   "cell_type": "code",
   "execution_count": 9,
   "id": "ae00a8d7",
   "metadata": {},
   "outputs": [],
   "source": [
    "# model\n",
    "model = UNetWithClassifier()\n",
    "model = model.to('cuda')\n",
    "\n",
    "# loss function\n",
    "criterion = MultiTaskLoss(pos_weight)\n",
    "\n",
    "# optimizer\n",
    "optimizer = torch.optim.AdamW(model.parameters(), lr= 0.001, weight_decay= 0.0001)\n",
    "\n",
    "# train test split\n",
    "n_total = len(dataset)\n",
    "n_val = int(0.2 * n_total)\n",
    "n_train = n_total - n_val\n",
    "train_dataset, test_dataset = torch.utils.data.random_split(dataset, [n_train, n_val], generator= torch.Generator().manual_seed(42))\n",
    "\n",
    "# weighted random sampler\n",
    "labels = np.array([dataset.category[i] for i in train_dataset.indices])\n",
    "class_counts = np.bincount(labels, minlength= 3)\n",
    "class_weights = class_counts.sum() / (len(class_counts) * class_counts.clip(min= 1))\n",
    "sample_weights = [class_weights[x] for x in labels]\n",
    "\n",
    "sampler = WeightedRandomSampler(weights= torch.tensor(sample_weights), num_samples= len(sample_weights), replacement= True)\n",
    "\n",
    "# DataLoaders\n",
    "train_loader = DataLoader(dataset= train_dataset, batch_size= 16, sampler= sampler, pin_memory= True)\n",
    "test_loader = DataLoader(dataset= test_dataset, batch_size= 16, shuffle= False, pin_memory= True)\n",
    "\n",
    "# Learning rate scheduler\n",
    "scheduler = torch.optim.lr_scheduler.ReduceLROnPlateau(optimizer= optimizer, mode= 'min', factor = 0.1, patience= 10, cooldown= 4)"
   ]
  },
  {
   "cell_type": "markdown",
   "id": "f1fa7596",
   "metadata": {},
   "source": [
    "### Training"
   ]
  },
  {
   "cell_type": "code",
   "execution_count": 10,
   "id": "8d53bc11",
   "metadata": {},
   "outputs": [
    {
     "name": "stderr",
     "output_type": "stream",
     "text": [
      "Epochs:   0%|          | 1/500 [00:33<4:39:05, 33.56s/it]"
     ]
    },
    {
     "name": "stdout",
     "output_type": "stream",
     "text": [
      "Epoch [1/500] Train Loss: 1.531304 | Val Loss: 2.910047 | Val Acc: 45.51%\n"
     ]
    },
    {
     "name": "stderr",
     "output_type": "stream",
     "text": [
      "Epochs:   0%|          | 2/500 [01:05<4:29:23, 32.46s/it]"
     ]
    },
    {
     "name": "stdout",
     "output_type": "stream",
     "text": [
      "Epoch [2/500] Train Loss: 1.400446 | Val Loss: 2.183480 | Val Acc: 52.56%\n"
     ]
    },
    {
     "name": "stderr",
     "output_type": "stream",
     "text": [
      "Epochs:   1%|          | 3/500 [01:36<4:26:00, 32.11s/it]"
     ]
    },
    {
     "name": "stdout",
     "output_type": "stream",
     "text": [
      "Epoch [3/500] Train Loss: 1.354849 | Val Loss: 1.470143 | Val Acc: 46.79%\n"
     ]
    },
    {
     "name": "stderr",
     "output_type": "stream",
     "text": [
      "Epochs:   1%|          | 4/500 [02:07<4:21:11, 31.60s/it]"
     ]
    },
    {
     "name": "stdout",
     "output_type": "stream",
     "text": [
      "Epoch [4/500] Train Loss: 1.273285 | Val Loss: 2.330193 | Val Acc: 61.54%\n"
     ]
    },
    {
     "name": "stderr",
     "output_type": "stream",
     "text": [
      "Epochs:   1%|          | 5/500 [02:38<4:18:16, 31.31s/it]"
     ]
    },
    {
     "name": "stdout",
     "output_type": "stream",
     "text": [
      "Epoch [5/500] Train Loss: 1.224789 | Val Loss: 1.186123 | Val Acc: 66.03%\n"
     ]
    },
    {
     "name": "stderr",
     "output_type": "stream",
     "text": [
      "Epochs:   1%|          | 6/500 [03:09<4:15:42, 31.06s/it]"
     ]
    },
    {
     "name": "stdout",
     "output_type": "stream",
     "text": [
      "Epoch [6/500] Train Loss: 1.199992 | Val Loss: 1.780670 | Val Acc: 59.62%\n"
     ]
    },
    {
     "name": "stderr",
     "output_type": "stream",
     "text": [
      "Epochs:   1%|▏         | 7/500 [03:39<4:14:06, 30.93s/it]"
     ]
    },
    {
     "name": "stdout",
     "output_type": "stream",
     "text": [
      "Epoch [7/500] Train Loss: 1.115822 | Val Loss: 1.253153 | Val Acc: 66.03%\n"
     ]
    },
    {
     "name": "stderr",
     "output_type": "stream",
     "text": [
      "Epochs:   2%|▏         | 8/500 [04:10<4:13:59, 30.98s/it]"
     ]
    },
    {
     "name": "stdout",
     "output_type": "stream",
     "text": [
      "Epoch [8/500] Train Loss: 1.021231 | Val Loss: 1.454805 | Val Acc: 64.10%\n"
     ]
    },
    {
     "name": "stderr",
     "output_type": "stream",
     "text": [
      "Epochs:   2%|▏         | 9/500 [04:42<4:13:56, 31.03s/it]"
     ]
    },
    {
     "name": "stdout",
     "output_type": "stream",
     "text": [
      "Epoch [9/500] Train Loss: 1.045344 | Val Loss: 1.362306 | Val Acc: 61.54%\n"
     ]
    },
    {
     "name": "stderr",
     "output_type": "stream",
     "text": [
      "Epochs:   2%|▏         | 10/500 [05:13<4:14:04, 31.11s/it]"
     ]
    },
    {
     "name": "stdout",
     "output_type": "stream",
     "text": [
      "Epoch [10/500] Train Loss: 1.112939 | Val Loss: 1.364918 | Val Acc: 49.36%\n"
     ]
    },
    {
     "name": "stderr",
     "output_type": "stream",
     "text": [
      "Epochs:   2%|▏         | 11/500 [05:43<4:11:52, 30.90s/it]"
     ]
    },
    {
     "name": "stdout",
     "output_type": "stream",
     "text": [
      "Epoch [11/500] Train Loss: 1.027536 | Val Loss: 1.397114 | Val Acc: 48.72%\n"
     ]
    },
    {
     "name": "stderr",
     "output_type": "stream",
     "text": [
      "Epochs:   2%|▏         | 12/500 [06:14<4:10:06, 30.75s/it]"
     ]
    },
    {
     "name": "stdout",
     "output_type": "stream",
     "text": [
      "Epoch [12/500] Train Loss: 0.996106 | Val Loss: 1.275468 | Val Acc: 66.03%\n"
     ]
    },
    {
     "name": "stderr",
     "output_type": "stream",
     "text": [
      "Epochs:   3%|▎         | 13/500 [06:44<4:08:40, 30.64s/it]"
     ]
    },
    {
     "name": "stdout",
     "output_type": "stream",
     "text": [
      "Epoch [13/500] Train Loss: 1.031751 | Val Loss: 1.109099 | Val Acc: 64.10%\n"
     ]
    },
    {
     "name": "stderr",
     "output_type": "stream",
     "text": [
      "Epochs:   3%|▎         | 14/500 [07:14<4:07:26, 30.55s/it]"
     ]
    },
    {
     "name": "stdout",
     "output_type": "stream",
     "text": [
      "Epoch [14/500] Train Loss: 0.979325 | Val Loss: 1.170295 | Val Acc: 62.82%\n"
     ]
    },
    {
     "name": "stderr",
     "output_type": "stream",
     "text": [
      "Epochs:   3%|▎         | 15/500 [07:45<4:06:33, 30.50s/it]"
     ]
    },
    {
     "name": "stdout",
     "output_type": "stream",
     "text": [
      "Epoch [15/500] Train Loss: 0.989768 | Val Loss: 1.325470 | Val Acc: 60.26%\n"
     ]
    },
    {
     "name": "stderr",
     "output_type": "stream",
     "text": [
      "Epochs:   3%|▎         | 16/500 [08:15<4:05:53, 30.48s/it]"
     ]
    },
    {
     "name": "stdout",
     "output_type": "stream",
     "text": [
      "Epoch [16/500] Train Loss: 0.956516 | Val Loss: 1.593944 | Val Acc: 50.00%\n"
     ]
    },
    {
     "name": "stderr",
     "output_type": "stream",
     "text": [
      "Epochs:   3%|▎         | 17/500 [08:46<4:05:04, 30.44s/it]"
     ]
    },
    {
     "name": "stdout",
     "output_type": "stream",
     "text": [
      "Epoch [17/500] Train Loss: 0.932720 | Val Loss: 1.001357 | Val Acc: 74.36%\n"
     ]
    },
    {
     "name": "stderr",
     "output_type": "stream",
     "text": [
      "Epochs:   4%|▎         | 18/500 [09:16<4:04:47, 30.47s/it]"
     ]
    },
    {
     "name": "stdout",
     "output_type": "stream",
     "text": [
      "Epoch [18/500] Train Loss: 0.916718 | Val Loss: 1.052582 | Val Acc: 67.95%\n"
     ]
    },
    {
     "name": "stderr",
     "output_type": "stream",
     "text": [
      "Epochs:   4%|▍         | 19/500 [09:46<4:03:56, 30.43s/it]"
     ]
    },
    {
     "name": "stdout",
     "output_type": "stream",
     "text": [
      "Epoch [19/500] Train Loss: 0.942648 | Val Loss: 1.046294 | Val Acc: 75.64%\n"
     ]
    },
    {
     "name": "stderr",
     "output_type": "stream",
     "text": [
      "Epochs:   4%|▍         | 20/500 [10:17<4:03:32, 30.44s/it]"
     ]
    },
    {
     "name": "stdout",
     "output_type": "stream",
     "text": [
      "Epoch [20/500] Train Loss: 0.902015 | Val Loss: 1.103165 | Val Acc: 72.44%\n"
     ]
    },
    {
     "name": "stderr",
     "output_type": "stream",
     "text": [
      "Epochs:   4%|▍         | 21/500 [10:47<4:03:02, 30.44s/it]"
     ]
    },
    {
     "name": "stdout",
     "output_type": "stream",
     "text": [
      "Epoch [21/500] Train Loss: 0.954789 | Val Loss: 0.995212 | Val Acc: 72.44%\n"
     ]
    },
    {
     "name": "stderr",
     "output_type": "stream",
     "text": [
      "Epochs:   4%|▍         | 22/500 [11:18<4:02:13, 30.41s/it]"
     ]
    },
    {
     "name": "stdout",
     "output_type": "stream",
     "text": [
      "Epoch [22/500] Train Loss: 0.928797 | Val Loss: 1.328694 | Val Acc: 57.69%\n"
     ]
    },
    {
     "name": "stderr",
     "output_type": "stream",
     "text": [
      "Epochs:   5%|▍         | 23/500 [11:48<4:01:31, 30.38s/it]"
     ]
    },
    {
     "name": "stdout",
     "output_type": "stream",
     "text": [
      "Epoch [23/500] Train Loss: 0.889279 | Val Loss: 1.276215 | Val Acc: 64.10%\n"
     ]
    },
    {
     "name": "stderr",
     "output_type": "stream",
     "text": [
      "Epochs:   5%|▍         | 24/500 [12:18<4:00:55, 30.37s/it]"
     ]
    },
    {
     "name": "stdout",
     "output_type": "stream",
     "text": [
      "Epoch [24/500] Train Loss: 0.896228 | Val Loss: 0.991025 | Val Acc: 77.56%\n"
     ]
    },
    {
     "name": "stderr",
     "output_type": "stream",
     "text": [
      "Epochs:   5%|▌         | 25/500 [12:49<4:00:29, 30.38s/it]"
     ]
    },
    {
     "name": "stdout",
     "output_type": "stream",
     "text": [
      "Epoch [25/500] Train Loss: 0.874152 | Val Loss: 1.149483 | Val Acc: 68.59%\n"
     ]
    },
    {
     "name": "stderr",
     "output_type": "stream",
     "text": [
      "Epochs:   5%|▌         | 26/500 [13:19<3:59:53, 30.37s/it]"
     ]
    },
    {
     "name": "stdout",
     "output_type": "stream",
     "text": [
      "Epoch [26/500] Train Loss: 0.878496 | Val Loss: 0.989468 | Val Acc: 70.51%\n"
     ]
    },
    {
     "name": "stderr",
     "output_type": "stream",
     "text": [
      "Epochs:   5%|▌         | 27/500 [13:50<3:59:42, 30.41s/it]"
     ]
    },
    {
     "name": "stdout",
     "output_type": "stream",
     "text": [
      "Epoch [27/500] Train Loss: 0.838904 | Val Loss: 1.099254 | Val Acc: 75.64%\n"
     ]
    },
    {
     "name": "stderr",
     "output_type": "stream",
     "text": [
      "Epochs:   6%|▌         | 28/500 [14:20<3:59:18, 30.42s/it]"
     ]
    },
    {
     "name": "stdout",
     "output_type": "stream",
     "text": [
      "Epoch [28/500] Train Loss: 0.830514 | Val Loss: 0.987141 | Val Acc: 74.36%\n"
     ]
    },
    {
     "name": "stderr",
     "output_type": "stream",
     "text": [
      "Epochs:   6%|▌         | 29/500 [14:50<3:58:34, 30.39s/it]"
     ]
    },
    {
     "name": "stdout",
     "output_type": "stream",
     "text": [
      "Epoch [29/500] Train Loss: 0.856781 | Val Loss: 1.172898 | Val Acc: 50.00%\n"
     ]
    },
    {
     "name": "stderr",
     "output_type": "stream",
     "text": [
      "Epochs:   6%|▌         | 30/500 [15:21<3:58:35, 30.46s/it]"
     ]
    },
    {
     "name": "stdout",
     "output_type": "stream",
     "text": [
      "Epoch [30/500] Train Loss: 0.857582 | Val Loss: 1.030593 | Val Acc: 66.03%\n"
     ]
    },
    {
     "name": "stderr",
     "output_type": "stream",
     "text": [
      "Epochs:   6%|▌         | 31/500 [15:51<3:57:27, 30.38s/it]"
     ]
    },
    {
     "name": "stdout",
     "output_type": "stream",
     "text": [
      "Epoch [31/500] Train Loss: 0.804711 | Val Loss: 1.210733 | Val Acc: 67.31%\n"
     ]
    },
    {
     "name": "stderr",
     "output_type": "stream",
     "text": [
      "Epochs:   6%|▋         | 32/500 [16:21<3:56:37, 30.34s/it]"
     ]
    },
    {
     "name": "stdout",
     "output_type": "stream",
     "text": [
      "Epoch [32/500] Train Loss: 0.840503 | Val Loss: 1.094167 | Val Acc: 69.23%\n"
     ]
    },
    {
     "name": "stderr",
     "output_type": "stream",
     "text": [
      "Epochs:   7%|▋         | 33/500 [16:52<3:56:03, 30.33s/it]"
     ]
    },
    {
     "name": "stdout",
     "output_type": "stream",
     "text": [
      "Epoch [33/500] Train Loss: 0.813990 | Val Loss: 0.993214 | Val Acc: 72.44%\n"
     ]
    },
    {
     "name": "stderr",
     "output_type": "stream",
     "text": [
      "Epochs:   7%|▋         | 34/500 [17:22<3:55:21, 30.30s/it]"
     ]
    },
    {
     "name": "stdout",
     "output_type": "stream",
     "text": [
      "Epoch [34/500] Train Loss: 0.849753 | Val Loss: 1.073260 | Val Acc: 71.15%\n"
     ]
    },
    {
     "name": "stderr",
     "output_type": "stream",
     "text": [
      "Epochs:   7%|▋         | 35/500 [17:52<3:55:08, 30.34s/it]"
     ]
    },
    {
     "name": "stdout",
     "output_type": "stream",
     "text": [
      "Epoch [35/500] Train Loss: 0.832041 | Val Loss: 1.121980 | Val Acc: 75.00%\n"
     ]
    },
    {
     "name": "stderr",
     "output_type": "stream",
     "text": [
      "Epochs:   7%|▋         | 36/500 [18:23<3:54:29, 30.32s/it]"
     ]
    },
    {
     "name": "stdout",
     "output_type": "stream",
     "text": [
      "Epoch [36/500] Train Loss: 0.809247 | Val Loss: 0.994216 | Val Acc: 73.72%\n"
     ]
    },
    {
     "name": "stderr",
     "output_type": "stream",
     "text": [
      "Epochs:   7%|▋         | 37/500 [18:53<3:54:09, 30.34s/it]"
     ]
    },
    {
     "name": "stdout",
     "output_type": "stream",
     "text": [
      "Epoch [37/500] Train Loss: 0.787550 | Val Loss: 0.978072 | Val Acc: 79.49%\n"
     ]
    },
    {
     "name": "stderr",
     "output_type": "stream",
     "text": [
      "Epochs:   8%|▊         | 38/500 [19:23<3:53:52, 30.37s/it]"
     ]
    },
    {
     "name": "stdout",
     "output_type": "stream",
     "text": [
      "Epoch [38/500] Train Loss: 0.780419 | Val Loss: 1.152328 | Val Acc: 71.15%\n"
     ]
    },
    {
     "name": "stderr",
     "output_type": "stream",
     "text": [
      "Epochs:   8%|▊         | 39/500 [19:54<3:52:48, 30.30s/it]"
     ]
    },
    {
     "name": "stdout",
     "output_type": "stream",
     "text": [
      "Epoch [39/500] Train Loss: 0.747355 | Val Loss: 1.100619 | Val Acc: 71.79%\n"
     ]
    },
    {
     "name": "stderr",
     "output_type": "stream",
     "text": [
      "Epochs:   8%|▊         | 40/500 [20:24<3:52:20, 30.31s/it]"
     ]
    },
    {
     "name": "stdout",
     "output_type": "stream",
     "text": [
      "Epoch [40/500] Train Loss: 0.746710 | Val Loss: 0.911655 | Val Acc: 80.13%\n"
     ]
    },
    {
     "name": "stderr",
     "output_type": "stream",
     "text": [
      "Epochs:   8%|▊         | 41/500 [20:54<3:51:35, 30.27s/it]"
     ]
    },
    {
     "name": "stdout",
     "output_type": "stream",
     "text": [
      "Epoch [41/500] Train Loss: 0.763886 | Val Loss: 1.029100 | Val Acc: 75.00%\n"
     ]
    },
    {
     "name": "stderr",
     "output_type": "stream",
     "text": [
      "Epochs:   8%|▊         | 42/500 [21:24<3:51:12, 30.29s/it]"
     ]
    },
    {
     "name": "stdout",
     "output_type": "stream",
     "text": [
      "Epoch [42/500] Train Loss: 0.815022 | Val Loss: 1.016286 | Val Acc: 78.21%\n"
     ]
    },
    {
     "name": "stderr",
     "output_type": "stream",
     "text": [
      "Epochs:   9%|▊         | 43/500 [21:55<3:50:45, 30.30s/it]"
     ]
    },
    {
     "name": "stdout",
     "output_type": "stream",
     "text": [
      "Epoch [43/500] Train Loss: 0.709783 | Val Loss: 0.965584 | Val Acc: 78.21%\n"
     ]
    },
    {
     "name": "stderr",
     "output_type": "stream",
     "text": [
      "Epochs:   9%|▉         | 44/500 [22:25<3:50:48, 30.37s/it]"
     ]
    },
    {
     "name": "stdout",
     "output_type": "stream",
     "text": [
      "Epoch [44/500] Train Loss: 0.773732 | Val Loss: 1.019042 | Val Acc: 76.92%\n"
     ]
    },
    {
     "name": "stderr",
     "output_type": "stream",
     "text": [
      "Epochs:   9%|▉         | 45/500 [22:55<3:49:47, 30.30s/it]"
     ]
    },
    {
     "name": "stdout",
     "output_type": "stream",
     "text": [
      "Epoch [45/500] Train Loss: 0.781687 | Val Loss: 1.228967 | Val Acc: 61.54%\n"
     ]
    },
    {
     "name": "stderr",
     "output_type": "stream",
     "text": [
      "Epochs:   9%|▉         | 46/500 [23:26<3:49:15, 30.30s/it]"
     ]
    },
    {
     "name": "stdout",
     "output_type": "stream",
     "text": [
      "Epoch [46/500] Train Loss: 0.713408 | Val Loss: 1.035244 | Val Acc: 75.64%\n"
     ]
    },
    {
     "name": "stderr",
     "output_type": "stream",
     "text": [
      "Epochs:   9%|▉         | 47/500 [23:56<3:48:56, 30.32s/it]"
     ]
    },
    {
     "name": "stdout",
     "output_type": "stream",
     "text": [
      "Epoch [47/500] Train Loss: 0.707803 | Val Loss: 1.103348 | Val Acc: 61.54%\n"
     ]
    },
    {
     "name": "stderr",
     "output_type": "stream",
     "text": [
      "Epochs:  10%|▉         | 48/500 [24:27<3:48:37, 30.35s/it]"
     ]
    },
    {
     "name": "stdout",
     "output_type": "stream",
     "text": [
      "Epoch [48/500] Train Loss: 0.669483 | Val Loss: 1.449539 | Val Acc: 71.79%\n"
     ]
    },
    {
     "name": "stderr",
     "output_type": "stream",
     "text": [
      "Epochs:  10%|▉         | 49/500 [24:57<3:48:13, 30.36s/it]"
     ]
    },
    {
     "name": "stdout",
     "output_type": "stream",
     "text": [
      "Epoch [49/500] Train Loss: 0.735113 | Val Loss: 1.194201 | Val Acc: 68.59%\n"
     ]
    },
    {
     "name": "stderr",
     "output_type": "stream",
     "text": [
      "Epochs:  10%|█         | 50/500 [25:27<3:47:17, 30.30s/it]"
     ]
    },
    {
     "name": "stdout",
     "output_type": "stream",
     "text": [
      "Epoch [50/500] Train Loss: 0.727082 | Val Loss: 1.295967 | Val Acc: 60.26%\n"
     ]
    },
    {
     "name": "stderr",
     "output_type": "stream",
     "text": [
      "Epochs:  10%|█         | 51/500 [25:57<3:46:48, 30.31s/it]"
     ]
    },
    {
     "name": "stdout",
     "output_type": "stream",
     "text": [
      "Epoch [51/500] Train Loss: 0.707763 | Val Loss: 0.900178 | Val Acc: 82.69%\n"
     ]
    },
    {
     "name": "stderr",
     "output_type": "stream",
     "text": [
      "Epochs:  10%|█         | 52/500 [26:28<3:45:58, 30.26s/it]"
     ]
    },
    {
     "name": "stdout",
     "output_type": "stream",
     "text": [
      "Epoch [52/500] Train Loss: 0.678440 | Val Loss: 0.995156 | Val Acc: 82.05%\n"
     ]
    },
    {
     "name": "stderr",
     "output_type": "stream",
     "text": [
      "Epochs:  11%|█         | 53/500 [26:58<3:45:22, 30.25s/it]"
     ]
    },
    {
     "name": "stdout",
     "output_type": "stream",
     "text": [
      "Epoch [53/500] Train Loss: 0.657159 | Val Loss: 0.986037 | Val Acc: 75.64%\n"
     ]
    },
    {
     "name": "stderr",
     "output_type": "stream",
     "text": [
      "Epochs:  11%|█         | 54/500 [27:28<3:44:39, 30.22s/it]"
     ]
    },
    {
     "name": "stdout",
     "output_type": "stream",
     "text": [
      "Epoch [54/500] Train Loss: 0.678882 | Val Loss: 1.316020 | Val Acc: 68.59%\n"
     ]
    },
    {
     "name": "stderr",
     "output_type": "stream",
     "text": [
      "Epochs:  11%|█         | 55/500 [27:58<3:43:57, 30.20s/it]"
     ]
    },
    {
     "name": "stdout",
     "output_type": "stream",
     "text": [
      "Epoch [55/500] Train Loss: 0.623535 | Val Loss: 0.926919 | Val Acc: 78.85%\n"
     ]
    },
    {
     "name": "stderr",
     "output_type": "stream",
     "text": [
      "Epochs:  11%|█         | 56/500 [28:29<3:44:04, 30.28s/it]"
     ]
    },
    {
     "name": "stdout",
     "output_type": "stream",
     "text": [
      "Epoch [56/500] Train Loss: 0.652579 | Val Loss: 1.221823 | Val Acc: 74.36%\n"
     ]
    },
    {
     "name": "stderr",
     "output_type": "stream",
     "text": [
      "Epochs:  11%|█▏        | 57/500 [28:59<3:43:37, 30.29s/it]"
     ]
    },
    {
     "name": "stdout",
     "output_type": "stream",
     "text": [
      "Epoch [57/500] Train Loss: 0.630851 | Val Loss: 0.953142 | Val Acc: 81.41%\n"
     ]
    },
    {
     "name": "stderr",
     "output_type": "stream",
     "text": [
      "Epochs:  12%|█▏        | 58/500 [29:29<3:43:11, 30.30s/it]"
     ]
    },
    {
     "name": "stdout",
     "output_type": "stream",
     "text": [
      "Epoch [58/500] Train Loss: 0.608364 | Val Loss: 0.912460 | Val Acc: 84.62%\n"
     ]
    },
    {
     "name": "stderr",
     "output_type": "stream",
     "text": [
      "Epochs:  12%|█▏        | 59/500 [29:59<3:42:39, 30.29s/it]"
     ]
    },
    {
     "name": "stdout",
     "output_type": "stream",
     "text": [
      "Epoch [59/500] Train Loss: 0.582856 | Val Loss: 1.024650 | Val Acc: 82.69%\n"
     ]
    },
    {
     "name": "stderr",
     "output_type": "stream",
     "text": [
      "Epochs:  12%|█▏        | 60/500 [30:29<3:41:34, 30.21s/it]"
     ]
    },
    {
     "name": "stdout",
     "output_type": "stream",
     "text": [
      "Epoch [60/500] Train Loss: 0.644178 | Val Loss: 1.080957 | Val Acc: 76.92%\n"
     ]
    },
    {
     "name": "stderr",
     "output_type": "stream",
     "text": [
      "Epochs:  12%|█▏        | 61/500 [31:00<3:41:13, 30.24s/it]"
     ]
    },
    {
     "name": "stdout",
     "output_type": "stream",
     "text": [
      "Epoch [61/500] Train Loss: 0.608004 | Val Loss: 1.093925 | Val Acc: 80.77%\n"
     ]
    },
    {
     "name": "stderr",
     "output_type": "stream",
     "text": [
      "Epochs:  12%|█▏        | 62/500 [31:30<3:40:59, 30.27s/it]"
     ]
    },
    {
     "name": "stdout",
     "output_type": "stream",
     "text": [
      "Epoch [62/500] Train Loss: 0.608626 | Val Loss: 1.085715 | Val Acc: 79.49%\n"
     ]
    },
    {
     "name": "stderr",
     "output_type": "stream",
     "text": [
      "Epochs:  13%|█▎        | 63/500 [32:01<3:40:53, 30.33s/it]"
     ]
    },
    {
     "name": "stdout",
     "output_type": "stream",
     "text": [
      "Epoch [63/500] Train Loss: 0.558297 | Val Loss: 0.888327 | Val Acc: 80.77%\n"
     ]
    },
    {
     "name": "stderr",
     "output_type": "stream",
     "text": [
      "Epochs:  13%|█▎        | 64/500 [32:31<3:40:26, 30.34s/it]"
     ]
    },
    {
     "name": "stdout",
     "output_type": "stream",
     "text": [
      "Epoch [64/500] Train Loss: 0.558097 | Val Loss: 0.897967 | Val Acc: 80.13%\n"
     ]
    },
    {
     "name": "stderr",
     "output_type": "stream",
     "text": [
      "Epochs:  13%|█▎        | 65/500 [33:01<3:39:48, 30.32s/it]"
     ]
    },
    {
     "name": "stdout",
     "output_type": "stream",
     "text": [
      "Epoch [65/500] Train Loss: 0.528984 | Val Loss: 0.896322 | Val Acc: 84.62%\n"
     ]
    },
    {
     "name": "stderr",
     "output_type": "stream",
     "text": [
      "Epochs:  13%|█▎        | 66/500 [33:31<3:38:58, 30.27s/it]"
     ]
    },
    {
     "name": "stdout",
     "output_type": "stream",
     "text": [
      "Epoch [66/500] Train Loss: 0.507513 | Val Loss: 0.887686 | Val Acc: 85.26%\n"
     ]
    },
    {
     "name": "stderr",
     "output_type": "stream",
     "text": [
      "Epochs:  13%|█▎        | 67/500 [34:02<3:38:54, 30.33s/it]"
     ]
    },
    {
     "name": "stdout",
     "output_type": "stream",
     "text": [
      "Epoch [67/500] Train Loss: 0.514704 | Val Loss: 0.912582 | Val Acc: 83.33%\n"
     ]
    },
    {
     "name": "stderr",
     "output_type": "stream",
     "text": [
      "Epochs:  14%|█▎        | 68/500 [34:32<3:38:56, 30.41s/it]"
     ]
    },
    {
     "name": "stdout",
     "output_type": "stream",
     "text": [
      "Epoch [68/500] Train Loss: 0.509050 | Val Loss: 0.884388 | Val Acc: 85.26%\n"
     ]
    },
    {
     "name": "stderr",
     "output_type": "stream",
     "text": [
      "Epochs:  14%|█▍        | 69/500 [35:03<3:37:57, 30.34s/it]"
     ]
    },
    {
     "name": "stdout",
     "output_type": "stream",
     "text": [
      "Epoch [69/500] Train Loss: 0.490780 | Val Loss: 0.914655 | Val Acc: 83.33%\n"
     ]
    },
    {
     "name": "stderr",
     "output_type": "stream",
     "text": [
      "Epochs:  14%|█▍        | 70/500 [35:34<3:38:58, 30.56s/it]"
     ]
    },
    {
     "name": "stdout",
     "output_type": "stream",
     "text": [
      "Epoch [70/500] Train Loss: 0.494660 | Val Loss: 0.919146 | Val Acc: 83.33%\n"
     ]
    },
    {
     "name": "stderr",
     "output_type": "stream",
     "text": [
      "Epochs:  14%|█▍        | 71/500 [36:05<3:40:39, 30.86s/it]"
     ]
    },
    {
     "name": "stdout",
     "output_type": "stream",
     "text": [
      "Epoch [71/500] Train Loss: 0.497400 | Val Loss: 0.939739 | Val Acc: 85.26%\n"
     ]
    },
    {
     "name": "stderr",
     "output_type": "stream",
     "text": [
      "Epochs:  14%|█▍        | 72/500 [36:37<3:41:19, 31.03s/it]"
     ]
    },
    {
     "name": "stdout",
     "output_type": "stream",
     "text": [
      "Epoch [72/500] Train Loss: 0.491070 | Val Loss: 0.937273 | Val Acc: 84.62%\n"
     ]
    },
    {
     "name": "stderr",
     "output_type": "stream",
     "text": [
      "Epochs:  15%|█▍        | 73/500 [37:08<3:41:58, 31.19s/it]"
     ]
    },
    {
     "name": "stdout",
     "output_type": "stream",
     "text": [
      "Epoch [73/500] Train Loss: 0.484318 | Val Loss: 0.935821 | Val Acc: 83.33%\n"
     ]
    },
    {
     "name": "stderr",
     "output_type": "stream",
     "text": [
      "Epochs:  15%|█▍        | 74/500 [37:40<3:42:29, 31.34s/it]"
     ]
    },
    {
     "name": "stdout",
     "output_type": "stream",
     "text": [
      "Epoch [74/500] Train Loss: 0.485765 | Val Loss: 0.910548 | Val Acc: 84.62%\n"
     ]
    },
    {
     "name": "stderr",
     "output_type": "stream",
     "text": [
      "Epochs:  15%|█▌        | 75/500 [38:11<3:42:07, 31.36s/it]"
     ]
    },
    {
     "name": "stdout",
     "output_type": "stream",
     "text": [
      "Epoch [75/500] Train Loss: 0.489113 | Val Loss: 0.902865 | Val Acc: 85.90%\n"
     ]
    },
    {
     "name": "stderr",
     "output_type": "stream",
     "text": [
      "Epochs:  15%|█▌        | 76/500 [38:43<3:41:32, 31.35s/it]"
     ]
    },
    {
     "name": "stdout",
     "output_type": "stream",
     "text": [
      "Epoch [76/500] Train Loss: 0.480044 | Val Loss: 0.903798 | Val Acc: 83.97%\n"
     ]
    },
    {
     "name": "stderr",
     "output_type": "stream",
     "text": [
      "Epochs:  15%|█▌        | 77/500 [39:14<3:41:31, 31.42s/it]"
     ]
    },
    {
     "name": "stdout",
     "output_type": "stream",
     "text": [
      "Epoch [77/500] Train Loss: 0.470673 | Val Loss: 0.929325 | Val Acc: 85.26%\n"
     ]
    },
    {
     "name": "stderr",
     "output_type": "stream",
     "text": [
      "Epochs:  16%|█▌        | 78/500 [39:46<3:41:24, 31.48s/it]"
     ]
    },
    {
     "name": "stdout",
     "output_type": "stream",
     "text": [
      "Epoch [78/500] Train Loss: 0.458235 | Val Loss: 0.908876 | Val Acc: 84.62%\n"
     ]
    },
    {
     "name": "stderr",
     "output_type": "stream",
     "text": [
      "Epochs:  16%|█▌        | 79/500 [40:18<3:41:24, 31.55s/it]"
     ]
    },
    {
     "name": "stdout",
     "output_type": "stream",
     "text": [
      "Epoch [79/500] Train Loss: 0.483933 | Val Loss: 0.942236 | Val Acc: 83.97%\n"
     ]
    },
    {
     "name": "stderr",
     "output_type": "stream",
     "text": [
      "Epochs:  16%|█▌        | 80/500 [40:49<3:40:51, 31.55s/it]"
     ]
    },
    {
     "name": "stdout",
     "output_type": "stream",
     "text": [
      "Epoch [80/500] Train Loss: 0.476154 | Val Loss: 0.947859 | Val Acc: 83.97%\n"
     ]
    },
    {
     "name": "stderr",
     "output_type": "stream",
     "text": [
      "Epochs:  16%|█▌        | 81/500 [41:21<3:40:34, 31.59s/it]"
     ]
    },
    {
     "name": "stdout",
     "output_type": "stream",
     "text": [
      "Epoch [81/500] Train Loss: 0.466638 | Val Loss: 0.901240 | Val Acc: 84.62%\n"
     ]
    },
    {
     "name": "stderr",
     "output_type": "stream",
     "text": [
      "Epochs:  16%|█▋        | 82/500 [41:52<3:39:50, 31.56s/it]"
     ]
    },
    {
     "name": "stdout",
     "output_type": "stream",
     "text": [
      "Epoch [82/500] Train Loss: 0.468238 | Val Loss: 0.916066 | Val Acc: 85.26%\n"
     ]
    },
    {
     "name": "stderr",
     "output_type": "stream",
     "text": [
      "Epochs:  17%|█▋        | 83/500 [42:24<3:39:04, 31.52s/it]"
     ]
    },
    {
     "name": "stdout",
     "output_type": "stream",
     "text": [
      "Epoch [83/500] Train Loss: 0.459763 | Val Loss: 0.936199 | Val Acc: 84.62%\n"
     ]
    },
    {
     "name": "stderr",
     "output_type": "stream",
     "text": [
      "Epochs:  17%|█▋        | 84/500 [42:55<3:38:15, 31.48s/it]"
     ]
    },
    {
     "name": "stdout",
     "output_type": "stream",
     "text": [
      "Epoch [84/500] Train Loss: 0.458182 | Val Loss: 0.901224 | Val Acc: 84.62%\n"
     ]
    },
    {
     "name": "stderr",
     "output_type": "stream",
     "text": [
      "Epochs:  17%|█▋        | 85/500 [43:27<3:37:39, 31.47s/it]"
     ]
    },
    {
     "name": "stdout",
     "output_type": "stream",
     "text": [
      "Epoch [85/500] Train Loss: 0.456044 | Val Loss: 0.937945 | Val Acc: 86.54%\n"
     ]
    },
    {
     "name": "stderr",
     "output_type": "stream",
     "text": [
      "Epochs:  17%|█▋        | 86/500 [43:58<3:37:01, 31.45s/it]"
     ]
    },
    {
     "name": "stdout",
     "output_type": "stream",
     "text": [
      "Epoch [86/500] Train Loss: 0.492726 | Val Loss: 0.924663 | Val Acc: 85.90%\n"
     ]
    },
    {
     "name": "stderr",
     "output_type": "stream",
     "text": [
      "Epochs:  17%|█▋        | 87/500 [44:29<3:36:21, 31.43s/it]"
     ]
    },
    {
     "name": "stdout",
     "output_type": "stream",
     "text": [
      "Epoch [87/500] Train Loss: 0.464855 | Val Loss: 0.952761 | Val Acc: 85.26%\n"
     ]
    },
    {
     "name": "stderr",
     "output_type": "stream",
     "text": [
      "Epochs:  17%|█▋        | 87/500 [45:01<3:33:43, 31.05s/it]"
     ]
    },
    {
     "name": "stdout",
     "output_type": "stream",
     "text": [
      "Epoch [88/500] Train Loss: 0.449035 | Val Loss: 0.941186 | Val Acc: 85.90%\n",
      "Early stopping at epoch 88\n"
     ]
    },
    {
     "name": "stderr",
     "output_type": "stream",
     "text": [
      "\n"
     ]
    }
   ],
   "source": [
    "from tqdm import trange\n",
    "\n",
    "train_loss, test_loss = [], []\n",
    "\n",
    "num_epochs = 500\n",
    "patience = 20\n",
    "best_val_loss = float('inf')\n",
    "epochs_no_improve = 0\n",
    "\n",
    "for epoch in trange(num_epochs, desc=\"Epochs\"):\n",
    "    model.train()\n",
    "    running_loss = 0.0\n",
    "    for images, masks, labels in train_loader:\n",
    "        images = images.to('cuda')\n",
    "        masks = masks.to('cuda').view(-1, 1, 256, 256).float()\n",
    "        labels = labels.to('cuda')\n",
    "\n",
    "        optimizer.zero_grad()\n",
    "        mask_pred, output_class_logits = model(images)\n",
    "        loss = criterion(mask_pred, masks, output_class_logits, labels)\n",
    "        loss.backward()\n",
    "        optimizer.step()\n",
    "\n",
    "        running_loss += loss.item()\n",
    "\n",
    "    avg_loss = running_loss / len(train_loader)\n",
    "\n",
    "    # Validation\n",
    "    model.eval()\n",
    "    val_loss = 0.0\n",
    "    correct = 0\n",
    "    total = 0\n",
    "    with torch.no_grad():\n",
    "        for images, masks, labels in test_loader:\n",
    "            images = images.to('cuda')\n",
    "            masks = masks.to('cuda').view(-1, 1, 256, 256).float()\n",
    "            labels = labels.to('cuda')\n",
    "            mask_pred, output_class_logits = model(images)\n",
    "            loss = criterion(mask_pred, masks, output_class_logits, labels)\n",
    "            val_loss += loss.item()\n",
    "            output_classes = output_class_logits.argmax(dim= 1)\n",
    "            correct += (output_classes == labels).sum().item()\n",
    "            total += labels.size(0)\n",
    "    val_loss /= len(test_loader)\n",
    "\n",
    "    scheduler.step(val_loss)\n",
    "\n",
    "    val_acc = 100 * correct / total\n",
    "\n",
    "    print(f\"Epoch [{epoch+1}/{num_epochs}] Train Loss: {avg_loss:.6f} | Val Loss: {val_loss:.6f} | Val Acc: {val_acc:.2f}%\")\n",
    "    \n",
    "    train_loss.append(avg_loss)\n",
    "    test_loss.append(val_loss)\n",
    "\n",
    "    # Early stopping\n",
    "    if val_loss < best_val_loss:\n",
    "        best_val_loss = val_loss\n",
    "        epochs_no_improve = 0\n",
    "        torch.save(model.state_dict(), 'model.pt')\n",
    "    else:\n",
    "        epochs_no_improve += 1\n",
    "        if epochs_no_improve >= patience:\n",
    "            print(f\"Early stopping at epoch {epoch+1}\")\n",
    "            break"
   ]
  },
  {
   "cell_type": "markdown",
   "id": "f6260c80",
   "metadata": {},
   "source": [
    "### Saving loss lists"
   ]
  },
  {
   "cell_type": "code",
   "execution_count": 11,
   "id": "7e83b7dc",
   "metadata": {},
   "outputs": [],
   "source": [
    "import pandas as pd\n",
    "train_pd = pd.DataFrame(train_loss)\n",
    "train_pd.to_csv('train_loss.csv', index= False, header= False)\n",
    "test_pd = pd.DataFrame(test_loss)\n",
    "test_pd.to_csv('test_loss.csv', index= False, header= False)"
   ]
  },
  {
   "cell_type": "code",
   "execution_count": 12,
   "id": "d02d624c",
   "metadata": {},
   "outputs": [
    {
     "name": "stdout",
     "output_type": "stream",
     "text": [
      "Macro Precision: 0.8778735399246216\n"
     ]
    }
   ],
   "source": [
    "from torchmetrics.classification import MulticlassPrecision\n",
    "\n",
    "model.eval()\n",
    "preds, targets = [], []\n",
    "\n",
    "with torch.no_grad():\n",
    "    for images, masks, labels in test_loader:\n",
    "        images = images.to('cuda')\n",
    "        masks = masks.to('cuda').view(-1, 1, 256, 256).float()\n",
    "        labels = labels.to('cuda')\n",
    "\n",
    "        seg_logits, cls_logits = model(images)\n",
    "        pred_cls = cls_logits.argmax(dim=1)  # (B,)\n",
    "\n",
    "        preds.append(pred_cls.cpu())\n",
    "        targets.append(labels.cpu())\n",
    "\n",
    "preds = torch.cat(preds)      # shape (N,)\n",
    "targets = torch.cat(targets)  # shape (N,)\n",
    "\n",
    "metric = MulticlassPrecision(num_classes=3, average=\"macro\")\n",
    "precision_macro = metric(preds, targets).item()\n",
    "print(\"Macro Precision:\", precision_macro)"
   ]
  },
  {
   "cell_type": "code",
   "execution_count": 13,
   "id": "204a75dc",
   "metadata": {},
   "outputs": [
    {
     "name": "stdout",
     "output_type": "stream",
     "text": [
      "macro=0.8779  micro=0.8590  weighted=0.8631\n"
     ]
    }
   ],
   "source": [
    "from torchmetrics.classification import MulticlassPrecision\n",
    "\n",
    "prec_macro = MulticlassPrecision(num_classes=3, average=\"macro\")(preds, targets).item()\n",
    "prec_micro = MulticlassPrecision(num_classes=3, average=\"micro\")(preds, targets).item()\n",
    "prec_weighted = MulticlassPrecision(num_classes=3, average=\"weighted\")(preds, targets).item()\n",
    "print(f\"macro={prec_macro:.4f}  micro={prec_micro:.4f}  weighted={prec_weighted:.4f}\")\n"
   ]
  },
  {
   "cell_type": "code",
   "execution_count": 14,
   "id": "e84b79e3",
   "metadata": {},
   "outputs": [
    {
     "name": "stdout",
     "output_type": "stream",
     "text": [
      "╒═══════════════════╤═════════╕\n",
      "│ Metric            │   Score │\n",
      "╞═══════════════════╪═════════╡\n",
      "│ Accuracy          │  0.8397 │\n",
      "├───────────────────┼─────────┤\n",
      "│ Precision (macro) │  0.8607 │\n",
      "├───────────────────┼─────────┤\n",
      "│ Recall (macro)    │  0.8175 │\n",
      "├───────────────────┼─────────┤\n",
      "│ F1 (macro)        │  0.8348 │\n",
      "╘═══════════════════╧═════════╛\n",
      "╒═════════╤═════════════╤══════════╤════════╕\n",
      "│   Class │   Precision │   Recall │     F1 │\n",
      "╞═════════╪═════════════╪══════════╪════════╡\n",
      "│       0 │      0.809  │   0.9231 │ 0.8623 │\n",
      "├─────────┼─────────────┼──────────┼────────┤\n",
      "│       1 │      0.8421 │   0.7111 │ 0.7711 │\n",
      "├─────────┼─────────────┼──────────┼────────┤\n",
      "│       2 │      0.931  │   0.8182 │ 0.871  │\n",
      "╘═════════╧═════════════╧══════════╧════════╛\n"
     ]
    }
   ],
   "source": [
    "statedict = torch.load('model.pt')\n",
    "model = UNetWithClassifier()\n",
    "model = model.to('cuda')\n",
    "model.load_state_dict(statedict)\n",
    "from torchmetrics.classification import (\n",
    "    MulticlassAccuracy,\n",
    "    MulticlassPrecision,\n",
    "    MulticlassRecall,\n",
    "    MulticlassF1Score,\n",
    ")\n",
    "from tabulate import tabulate\n",
    "\n",
    "def evaluate_metrics(model, dataloader, device=\"cuda\", num_classes=3):\n",
    "    model.eval()\n",
    "    preds, targets = [], []\n",
    "\n",
    "    with torch.no_grad():\n",
    "        for images, masks, labels in dataloader:\n",
    "            images = images.to(device)\n",
    "            labels = labels.to(device)\n",
    "\n",
    "            _, cls_logits = model(images)\n",
    "            pred_cls = cls_logits.argmax(dim=1)\n",
    "\n",
    "            preds.append(pred_cls.cpu())\n",
    "            targets.append(labels.cpu())\n",
    "\n",
    "    preds = torch.cat(preds)\n",
    "    targets = torch.cat(targets)\n",
    "\n",
    "    # Macro / Micro / Weighted\n",
    "    metrics = {\n",
    "        \"Accuracy\": MulticlassAccuracy(num_classes=num_classes, average=\"micro\")(preds, targets).item(),\n",
    "        \"Precision (macro)\": MulticlassPrecision(num_classes=num_classes, average=\"macro\")(preds, targets).item(),\n",
    "        \"Recall (macro)\": MulticlassRecall(num_classes=num_classes, average=\"macro\")(preds, targets).item(),\n",
    "        \"F1 (macro)\": MulticlassF1Score(num_classes=num_classes, average=\"macro\")(preds, targets).item(),\n",
    "    }\n",
    "\n",
    "    # Per-class metrics\n",
    "    per_class_prec = MulticlassPrecision(num_classes=num_classes, average=None)(preds, targets)\n",
    "    per_class_rec  = MulticlassRecall(num_classes=num_classes, average=None)(preds, targets)\n",
    "    per_class_f1   = MulticlassF1Score(num_classes=num_classes, average=None)(preds, targets)\n",
    "\n",
    "    # Print summary table\n",
    "    summary_table = [[k, f\"{v:.4f}\"] for k, v in metrics.items()]\n",
    "    print(tabulate(summary_table, headers=[\"Metric\", \"Score\"], tablefmt=\"fancy_grid\"))\n",
    "\n",
    "    # Print per-class table\n",
    "    class_table = []\n",
    "    for i in range(num_classes):\n",
    "        class_table.append([i, f\"{per_class_prec[i]:.4f}\", f\"{per_class_rec[i]:.4f}\", f\"{per_class_f1[i]:.4f}\"])\n",
    "    print(tabulate(class_table, headers=[\"Class\", \"Precision\", \"Recall\", \"F1\"], tablefmt=\"fancy_grid\"))\n",
    "evaluate_metrics(model, test_loader)"
   ]
  },
  {
   "cell_type": "code",
   "execution_count": 15,
   "id": "3fe7b416",
   "metadata": {},
   "outputs": [
    {
     "data": {
      "image/png": "[encoded data removed]",
      "text/plain": [
       "<Figure size 640x480 with 1 Axes>"
      ]
     },
     "metadata": {},
     "output_type": "display_data"
    }
   ],
   "source": [
    "from matplotlib import pyplot as plt\n",
    "import pandas as pd\n",
    "\n",
    "train_loss = pd.read_csv('train_loss.csv', header= None).squeeze().tolist()\n",
    "test_loss = pd.read_csv('test_loss.csv', header = None).squeeze().tolist()\n",
    "\n",
    "plt.plot(range(1, 71), train_loss[: 70], color = 'blue', label = 'Training Loss')\n",
    "plt.plot(range(1, 71), test_loss[: 70], color = 'red', label = 'Validation Loss')\n",
    "plt.xlabel('Epochs', fontweight = 'bold')\n",
    "plt.ylabel('MultiTask Loss', fontweight = 'bold')\n",
    "plt.legend(prop={'weight':'bold'})\n",
    "plt.show()"
   ]
  },
  {
   "cell_type": "code",
   "execution_count": null,
   "id": "4dd29c0a",
   "metadata": {},
   "outputs": [],
   "source": []
  }
 ],
 "metadata": {
  "kernelspec": {
   "display_name": "venv (3.12.10)",
   "language": "python",
   "name": "python3"
  },
  "language_info": {
   "codemirror_mode": {
    "name": "ipython",
    "version": 3
   },
   "file_extension": ".py",
   "mimetype": "text/x-python",
   "name": "python",
   "nbconvert_exporter": "python",
   "pygments_lexer": "ipython3",
   "version": "3.12.10"
  }
 },
 "nbformat": 4,
 "nbformat_minor": 5
}
