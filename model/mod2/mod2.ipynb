{
 "cells": [
  {
   "cell_type": "code",
   "execution_count": 1,
   "id": "4fb35bce",
   "metadata": {},
   "outputs": [],
   "source": [
    "import torch\n",
    "from torch.utils.data import DataLoader, Dataset, WeightedRandomSampler\n",
    "from torch import nn\n",
    "from PIL import Image\n",
    "import os\n",
    "from torchvision import datasets, transforms\n",
    "from collections import defaultdict\n",
    "import albumentations as A\n",
    "import numpy as np"
   ]
  },
  {
   "cell_type": "markdown",
   "id": "3f83c9cc",
   "metadata": {},
   "source": [
    "### Finding different shapes and channels of images in the dataset"
   ]
  },
  {
   "cell_type": "code",
   "execution_count": 2,
   "id": "5248df7c",
   "metadata": {},
   "outputs": [
    {
     "name": "stdout",
     "output_type": "stream",
     "text": [
      "image shape length - 639 and mask shape length - 639\n",
      "number of channels - 3\n"
     ]
    }
   ],
   "source": [
    "folder_path = r'D:\\Suchit\\Breast-Cancer-Detection\\Dataset_BUSI_with_GT'\n",
    "image_shapes, mask_shapes = set(), set()\n",
    "channels = set()\n",
    "images, masks = [], []\n",
    "for folder in os.listdir(folder_path):\n",
    "    for image in os.listdir(os.path.join(folder_path, folder)):\n",
    "        with Image.open(os.path.join(folder_path, folder, image)) as img:\n",
    "            if 'mask' in image:\n",
    "                mask_shapes.add(img.size)\n",
    "                masks.append(os.path.join(folder_path, folder, image))\n",
    "            else:\n",
    "                image_shapes.add(img.size)\n",
    "                images.append(os.path.join(folder_path, folder, image))\n",
    "            channels.add(img.mode)\n",
    "print(f'image shape length - {len(image_shapes)} and mask shape length - {len(mask_shapes)}')\n",
    "print(f'number of channels - {len(channels)}')"
   ]
  },
  {
   "cell_type": "markdown",
   "id": "973f57f1",
   "metadata": {},
   "source": [
    "### Finding the average height and width of the images to resize them"
   ]
  },
  {
   "cell_type": "code",
   "execution_count": 3,
   "id": "32471919",
   "metadata": {},
   "outputs": [
    {
     "name": "stdout",
     "output_type": "stream",
     "text": [
      "average height = 501.4525641025641\n",
      "average width = 615.6794871794872\n"
     ]
    }
   ],
   "source": [
    "folder_path = r'D:\\Suchit\\Breast-Cancer-Detection\\Dataset_BUSI_with_GT'\n",
    "height, width, num_samples = 0.0, 0.0, 0.0\n",
    "for folder in os.listdir(folder_path):\n",
    "    for image in os.listdir(os.path.join(folder_path, folder)):\n",
    "        with Image.open(os.path.join(folder_path, folder, image)) as img:\n",
    "            if 'mask' not in image:\n",
    "                size = img.size\n",
    "                height += size[1]\n",
    "                width += size[0]\n",
    "                num_samples += 1\n",
    "height /= num_samples\n",
    "width /= num_samples\n",
    "print(f'average height = {height}')\n",
    "print(f'average width = {width}')"
   ]
  },
  {
   "cell_type": "markdown",
   "id": "90ceb9fe",
   "metadata": {},
   "source": [
    "Height and width is too large. Taking 256 * 256"
   ]
  },
  {
   "cell_type": "markdown",
   "id": "ffc45b12",
   "metadata": {},
   "source": [
    "### Finding the mean and standard deviation of the input images"
   ]
  },
  {
   "cell_type": "code",
   "execution_count": 4,
   "id": "2c323577",
   "metadata": {},
   "outputs": [
    {
     "name": "stdout",
     "output_type": "stream",
     "text": [
      "Calculating grayscale statistics...\n",
      "Found 780 images for statistics calculation\n",
      "Grayscale mean = 0.3279, std = 0.1998\n"
     ]
    }
   ],
   "source": [
    "def calculate_grayscale_stats(folder_path, resize_shape=(256, 256)):\n",
    "    \"\"\"Calculate mean and std for grayscale images\"\"\"\n",
    "    print(\"Calculating grayscale statistics...\")\n",
    "    \n",
    "    # Simple transform for grayscale statistics calculation\n",
    "    transform = transforms.Compose([\n",
    "        transforms.Grayscale(num_output_channels=1),\n",
    "        transforms.Resize(resize_shape),\n",
    "        transforms.ToTensor()\n",
    "    ])\n",
    "    \n",
    "    class GrayscaleImageData(Dataset):\n",
    "        def __init__(self, images, transform):\n",
    "            self.images = images\n",
    "            self.transform = transform\n",
    "        \n",
    "        def __len__(self):\n",
    "            return len(self.images)\n",
    "        \n",
    "        def __getitem__(self, index):\n",
    "            img_path = self.images[index]\n",
    "            image = Image.open(img_path)\n",
    "            return self.transform(image)\n",
    "    \n",
    "    # Get image paths (exclude masks)\n",
    "    images = []\n",
    "    for folder in os.listdir(folder_path):\n",
    "        for image in os.listdir(os.path.join(folder_path, folder)):\n",
    "            if 'mask' not in image:\n",
    "                images.append(os.path.join(folder_path, folder, image))\n",
    "    \n",
    "    print(f\"Found {len(images)} images for statistics calculation\")\n",
    "    \n",
    "    dataset = GrayscaleImageData(images, transform)\n",
    "    loader = DataLoader(dataset, batch_size=64, shuffle=False)\n",
    "    \n",
    "    mean, std, num_samples = 0.0, 0.0, 0.0\n",
    "    \n",
    "    for data in loader:\n",
    "        batch_size = data.size(0)\n",
    "        data = data.view(batch_size, data.size(1), -1)\n",
    "        mean += data.mean(2).sum(0)\n",
    "        std += data.std(2).sum(0)\n",
    "        num_samples += batch_size\n",
    "    \n",
    "    mean /= num_samples\n",
    "    std /= num_samples\n",
    "    \n",
    "    return mean.item(), std.item()\n",
    "\n",
    "# Step 2: Calculate grayscale statistics for your dataset\n",
    "grayscale_mean, grayscale_std = calculate_grayscale_stats(folder_path)\n",
    "print(f'Grayscale mean = {grayscale_mean:.4f}, std = {grayscale_std:.4f}')"
   ]
  },
  {
   "cell_type": "markdown",
   "id": "87b3913b",
   "metadata": {},
   "source": [
    "### Managing the dataset"
   ]
  },
  {
   "cell_type": "code",
   "execution_count": 5,
   "id": "2c84ca21",
   "metadata": {},
   "outputs": [],
   "source": [
    "class Data(Dataset):\n",
    "    def __init__(self, folder_path, transforms):\n",
    "        super().__init__()\n",
    "        self.images, self.masks, self.category = [], defaultdict(list), []\n",
    "        classes = {'benign': 0, 'malignant': 1, 'normal': 2}\n",
    "        self.transforms = transforms\n",
    "\n",
    "        for folder in os.listdir(folder_path):\n",
    "            for image in os.listdir(os.path.join(folder_path, folder)):\n",
    "                img_path = os.path.join(folder_path, folder, image)\n",
    "                if 'mask' in image:\n",
    "                    self.masks[image[: image.index('_mask')]].append(img_path)\n",
    "                else:\n",
    "                    self.images.append(img_path)\n",
    "                    self.category.append(classes[folder])\n",
    "\n",
    "    def __len__(self):\n",
    "        return len(self.images)\n",
    "\n",
    "    def __getitem__(self, index):\n",
    "        image_path = self.images[index]\n",
    "        key = os.path.basename(image_path)[: os.path.basename(image_path).index('.png')]\n",
    "        mask_paths = self.masks[key]\n",
    "\n",
    "        # Load image and masks as numpy arrays\n",
    "        image = np.array(Image.open(image_path).convert('L'))\n",
    "        masks = [np.array(Image.open(x).convert('L')) for x in mask_paths]\n",
    "\n",
    "        # Combine masks\n",
    "        mask = np.sum(np.stack(masks), axis=0)\n",
    "        mask = np.clip(mask, 0, 1)  # ensure binary\n",
    "\n",
    "        # Apply albumentations\n",
    "        if self.transforms:\n",
    "            augmented = self.transforms(image=image, mask=mask)\n",
    "            image = augmented['image']\n",
    "            mask = augmented['mask']\n",
    "\n",
    "        return image, mask, self.category[index]\n",
    "\n",
    "from albumentations.pytorch import ToTensorV2\n",
    "\n",
    "transform = A.Compose([\n",
    "    A.Resize(256, 256),\n",
    "    A.HorizontalFlip(p=0.5),\n",
    "    A.Normalize(mean=[grayscale_mean], std=[grayscale_std]),\n",
    "    ToTensorV2()\n",
    "])\n",
    "\n",
    "dataset = Data(folder_path, transform)\n"
   ]
  },
  {
   "cell_type": "markdown",
   "id": "8502507a",
   "metadata": {},
   "source": [
    "### Model"
   ]
  },
  {
   "cell_type": "code",
   "execution_count": 6,
   "id": "cb621660",
   "metadata": {},
   "outputs": [],
   "source": [
    "class DoubleConv(nn.Module):\n",
    "    def __init__(self, in_channels, out_channels):\n",
    "        super().__init__()\n",
    "        self.conv = nn.Sequential(\n",
    "            nn.Conv2d(in_channels, out_channels, kernel_size=3, padding=1, stride=1),\n",
    "            nn.BatchNorm2d(out_channels),\n",
    "            nn.ReLU(inplace=True),\n",
    "            nn.Conv2d(out_channels, out_channels, kernel_size=3, padding=1, stride=1),\n",
    "            nn.BatchNorm2d(out_channels),\n",
    "            nn.ReLU(inplace=True)\n",
    "        )\n",
    "    def forward(self, x):\n",
    "        return self.conv(x)\n",
    "\n",
    "class UNet(nn.Module):\n",
    "    def __init__(self, in_channels=1, out_channels=1):\n",
    "        super().__init__()\n",
    "        self.down1 = DoubleConv(in_channels, 64)\n",
    "        self.pool1 = nn.MaxPool2d(2)\n",
    "        self.down2 = DoubleConv(64, 128)\n",
    "        self.pool2 = nn.MaxPool2d(2)\n",
    "        self.down3 = DoubleConv(128, 256)\n",
    "        self.pool3 = nn.MaxPool2d(2)\n",
    "        self.down4 = DoubleConv(256, 512)\n",
    "        self.pool4 = nn.MaxPool2d(2)\n",
    "\n",
    "        self.bottleneck = DoubleConv(512, 1024)\n",
    "\n",
    "        self.up4 = nn.ConvTranspose2d(1024, 512, kernel_size=2, stride=2)\n",
    "        self.conv4 = DoubleConv(1024, 512)\n",
    "        self.up3 = nn.ConvTranspose2d(512, 256, kernel_size=2, stride=2)\n",
    "        self.conv3 = DoubleConv(512, 256)\n",
    "        self.up2 = nn.ConvTranspose2d(256, 128, kernel_size=2, stride=2)\n",
    "        self.conv2 = DoubleConv(256, 128)\n",
    "        self.up1 = nn.ConvTranspose2d(128, 64, kernel_size=2, stride=2)\n",
    "        self.conv1 = DoubleConv(128, 64)\n",
    "\n",
    "        self.final_conv = nn.Conv2d(64, out_channels, kernel_size=1)\n",
    "\n",
    "    def forward(self, x):\n",
    "        d1 = self.down1(x)\n",
    "        p1 = self.pool1(d1)\n",
    "        d2 = self.down2(p1)\n",
    "        p2 = self.pool2(d2)\n",
    "        d3 = self.down3(p2)\n",
    "        p3 = self.pool3(d3)\n",
    "        d4 = self.down4(p3)\n",
    "        p4 = self.pool4(d4)\n",
    "        bn = self.bottleneck(p4)\n",
    "\n",
    "        u4 = self.up4(bn)\n",
    "        u4 = torch.cat([u4, d4], dim=1)\n",
    "        u4 = self.conv4(u4)\n",
    "        u3 = self.up3(u4)\n",
    "        u3 = torch.cat([u3, d3], dim=1)\n",
    "        u3 = self.conv3(u3)\n",
    "        u2 = self.up2(u3)\n",
    "        u2 = torch.cat([u2, d2], dim=1)\n",
    "        u2 = self.conv2(u2)\n",
    "        u1 = self.up1(u2)\n",
    "        u1 = torch.cat([u1, d1], dim=1)\n",
    "        u1 = self.conv1(u1)\n",
    "\n",
    "        out = self.final_conv(u1)\n",
    "        return out\n",
    "\n",
    "class Predictor(nn.Module):\n",
    "    def __init__(self):\n",
    "        super().__init__()\n",
    "        self.conv = nn.Sequential(\n",
    "            nn.Conv2d(1, 32, kernel_size= 3),\n",
    "            nn.MaxPool2d(2),\n",
    "            nn.Conv2d(32, 64, kernel_size= 3),\n",
    "            nn.MaxPool2d(2),\n",
    "            nn.Conv2d(64, 128, kernel_size= 3),\n",
    "            nn.MaxPool2d(2),\n",
    "            nn.Conv2d(128, 256, kernel_size= 3),\n",
    "            nn.MaxPool2d(2),\n",
    "            nn.Flatten(),\n",
    "            nn.Linear(256 * 14 * 14, 128),\n",
    "            nn.ReLU(),\n",
    "            nn.Linear(128, 3)\n",
    "        )\n",
    "    def forward(self, x):\n",
    "        return self.conv(x)\n",
    "\n",
    "class UNetPredictor(nn.Module):\n",
    "    def __init__(self, unet, predictor):\n",
    "        super().__init__()\n",
    "        self.unet = unet\n",
    "        for param in self.unet.parameters():\n",
    "            param.requires_grad = False\n",
    "        self.predictor = predictor\n",
    "\n",
    "    def forward(self, x):\n",
    "        seg_out = self.unet(x)\n",
    "        pred_out = self.predictor(seg_out)\n",
    "        return pred_out\n",
    "    \n",
    "\n",
    "unet = UNet()\n",
    "unet = unet.to('cuda')\n",
    "predictor = Predictor()\n",
    "predictor = predictor.to('cuda')"
   ]
  },
  {
   "cell_type": "markdown",
   "id": "b396211c",
   "metadata": {},
   "source": [
    "### Weighted Random Sampling"
   ]
  },
  {
   "cell_type": "code",
   "execution_count": 7,
   "id": "b4f161bb",
   "metadata": {},
   "outputs": [],
   "source": [
    "targets = dataset.category\n",
    "class_counts = np.bincount(targets)\n",
    "class_weight = 1.0 / class_counts\n",
    "sample_weight = [class_weight[label] for label in targets]\n",
    "\n",
    "sampler = WeightedRandomSampler(\n",
    "    weights= sample_weight,\n",
    "    num_samples= len(sample_weight),\n",
    "    replacement= True\n",
    ")"
   ]
  },
  {
   "cell_type": "markdown",
   "id": "c8f7f4e9",
   "metadata": {},
   "source": [
    "### DataLoader, optimzer and loss function"
   ]
  },
  {
   "cell_type": "code",
   "execution_count": null,
   "id": "f6a31fe2",
   "metadata": {},
   "outputs": [],
   "source": [
    "trian_loader = DataLoader(dataset, batch_size= 16, sampler= sampler)\n",
    "test_loader = DataLoader(dataset, batch_size=16, sampler= sampler)\n",
    "\n",
    "criterion_unet = nn.BCEWithLogitsLoss()\n",
    "criterion_prediction = nn.CrossEntropyLoss()\n",
    "\n",
    "optimizer_unet = torch.optim.AdamW(unet.parameters(), lr= 0.001, weight_decay= 0.001)\n",
    "\n",
    "scheduler = torch.optim.lr_scheduler.ReduceLROnPlateau(\n",
    "    optimizer_unet,\n",
    "    mode='min',       # 'min' for loss, 'max' for accuracy/metric\n",
    "    factor=0.1,       # multiply LR by this factor\n",
    "    patience=10,       # wait for 5 epochs before reducing LR\n",
    ")"
   ]
  },
  {
   "cell_type": "code",
   "execution_count": null,
   "id": "5b96d399",
   "metadata": {},
   "outputs": [
    {
     "name": "stderr",
     "output_type": "stream",
     "text": [
      "Epochs:   0%|          | 0/500 [00:00<?, ?it/s]"
     ]
    },
    {
     "name": "stdout",
     "output_type": "stream",
     "text": [
      "Epoch [1/500] Train Loss: 0.2007 | Val Loss: 0.2183\n"
     ]
    },
    {
     "name": "stderr",
     "output_type": "stream",
     "text": [
      "Epochs:   0%|          | 1/500 [00:59<8:17:45, 59.85s/it]"
     ]
    },
    {
     "name": "stdout",
     "output_type": "stream",
     "text": [
      "Epoch [2/500] Train Loss: 0.1837 | Val Loss: 0.1767\n"
     ]
    },
    {
     "name": "stderr",
     "output_type": "stream",
     "text": [
      "Epochs:   0%|          | 2/500 [01:59<8:13:48, 59.50s/it]"
     ]
    },
    {
     "name": "stdout",
     "output_type": "stream",
     "text": [
      "Epoch [3/500] Train Loss: 0.1627 | Val Loss: 0.1731\n"
     ]
    },
    {
     "name": "stderr",
     "output_type": "stream",
     "text": [
      "Epochs:   1%|          | 3/500 [02:58<8:10:35, 59.23s/it]"
     ]
    },
    {
     "name": "stdout",
     "output_type": "stream",
     "text": [
      "Epoch [4/500] Train Loss: 0.1450 | Val Loss: 0.1582\n"
     ]
    },
    {
     "name": "stderr",
     "output_type": "stream",
     "text": [
      "Epochs:   1%|          | 5/500 [04:54<8:04:28, 58.73s/it]"
     ]
    },
    {
     "name": "stdout",
     "output_type": "stream",
     "text": [
      "Epoch [5/500] Train Loss: 0.1493 | Val Loss: 0.4254\n"
     ]
    },
    {
     "name": "stderr",
     "output_type": "stream",
     "text": [
      "Epochs:   1%|          | 6/500 [05:52<8:01:22, 58.47s/it]"
     ]
    },
    {
     "name": "stdout",
     "output_type": "stream",
     "text": [
      "Epoch [6/500] Train Loss: 0.1411 | Val Loss: 0.1911\n",
      "Epoch [7/500] Train Loss: 0.1266 | Val Loss: 0.1572\n"
     ]
    },
    {
     "name": "stderr",
     "output_type": "stream",
     "text": [
      "Epochs:   1%|▏         | 7/500 [06:51<8:01:24, 58.59s/it]"
     ]
    },
    {
     "name": "stdout",
     "output_type": "stream",
     "text": [
      "Epoch [8/500] Train Loss: 0.1347 | Val Loss: 0.1471\n"
     ]
    },
    {
     "name": "stderr",
     "output_type": "stream",
     "text": [
      "Epochs:   2%|▏         | 8/500 [07:51<8:02:51, 58.88s/it]"
     ]
    },
    {
     "name": "stdout",
     "output_type": "stream",
     "text": [
      "Epoch [9/500] Train Loss: 0.1385 | Val Loss: 0.1317\n"
     ]
    },
    {
     "name": "stderr",
     "output_type": "stream",
     "text": [
      "Epochs:   2%|▏         | 10/500 [09:49<8:02:16, 59.05s/it]"
     ]
    },
    {
     "name": "stdout",
     "output_type": "stream",
     "text": [
      "Epoch [10/500] Train Loss: 0.1178 | Val Loss: 0.1392\n"
     ]
    },
    {
     "name": "stderr",
     "output_type": "stream",
     "text": [
      "Epochs:   2%|▏         | 11/500 [10:48<8:01:02, 59.02s/it]"
     ]
    },
    {
     "name": "stdout",
     "output_type": "stream",
     "text": [
      "Epoch [11/500] Train Loss: 0.1301 | Val Loss: 0.1317\n"
     ]
    },
    {
     "name": "stderr",
     "output_type": "stream",
     "text": [
      "Epochs:   2%|▏         | 12/500 [11:47<7:59:58, 59.01s/it]"
     ]
    },
    {
     "name": "stdout",
     "output_type": "stream",
     "text": [
      "Epoch [12/500] Train Loss: 0.1209 | Val Loss: 0.1668\n"
     ]
    },
    {
     "name": "stderr",
     "output_type": "stream",
     "text": [
      "Epochs:   3%|▎         | 13/500 [12:46<7:59:11, 59.04s/it]"
     ]
    },
    {
     "name": "stdout",
     "output_type": "stream",
     "text": [
      "Epoch [13/500] Train Loss: 0.1141 | Val Loss: 0.1592\n",
      "Epoch [14/500] Train Loss: 0.1161 | Val Loss: 0.1227\n"
     ]
    },
    {
     "name": "stderr",
     "output_type": "stream",
     "text": [
      "Epochs:   3%|▎         | 15/500 [14:44<7:57:27, 59.07s/it]"
     ]
    },
    {
     "name": "stdout",
     "output_type": "stream",
     "text": [
      "Epoch [15/500] Train Loss: 0.1228 | Val Loss: 0.2017\n"
     ]
    },
    {
     "name": "stderr",
     "output_type": "stream",
     "text": [
      "Epochs:   3%|▎         | 16/500 [15:43<7:56:08, 59.03s/it]"
     ]
    },
    {
     "name": "stdout",
     "output_type": "stream",
     "text": [
      "Epoch [16/500] Train Loss: 0.1264 | Val Loss: 0.1482\n",
      "Epoch [17/500] Train Loss: 0.1284 | Val Loss: 0.1223\n"
     ]
    },
    {
     "name": "stderr",
     "output_type": "stream",
     "text": [
      "Epochs:   3%|▎         | 17/500 [16:42<7:55:18, 59.04s/it]"
     ]
    },
    {
     "name": "stdout",
     "output_type": "stream",
     "text": [
      "Epoch [18/500] Train Loss: 0.1190 | Val Loss: 0.1131\n"
     ]
    },
    {
     "name": "stderr",
     "output_type": "stream",
     "text": [
      "Epochs:   4%|▎         | 18/500 [17:43<7:58:07, 59.52s/it]"
     ]
    },
    {
     "name": "stdout",
     "output_type": "stream",
     "text": [
      "Epoch [19/500] Train Loss: 0.1111 | Val Loss: 0.1112\n"
     ]
    },
    {
     "name": "stderr",
     "output_type": "stream",
     "text": [
      "Epochs:   4%|▍         | 20/500 [19:42<7:55:23, 59.42s/it]"
     ]
    },
    {
     "name": "stdout",
     "output_type": "stream",
     "text": [
      "Epoch [20/500] Train Loss: 0.1077 | Val Loss: 0.1140\n",
      "Epoch [21/500] Train Loss: 0.1081 | Val Loss: 0.1001\n"
     ]
    },
    {
     "name": "stderr",
     "output_type": "stream",
     "text": [
      "Epochs:   4%|▍         | 22/500 [21:39<7:50:29, 59.06s/it]"
     ]
    },
    {
     "name": "stdout",
     "output_type": "stream",
     "text": [
      "Epoch [22/500] Train Loss: 0.1111 | Val Loss: 0.1085\n"
     ]
    },
    {
     "name": "stderr",
     "output_type": "stream",
     "text": [
      "Epochs:   5%|▍         | 23/500 [22:38<7:49:13, 59.02s/it]"
     ]
    },
    {
     "name": "stdout",
     "output_type": "stream",
     "text": [
      "Epoch [23/500] Train Loss: 0.1034 | Val Loss: 0.1016\n"
     ]
    },
    {
     "name": "stderr",
     "output_type": "stream",
     "text": [
      "Epochs:   5%|▍         | 24/500 [23:37<7:47:52, 58.98s/it]"
     ]
    },
    {
     "name": "stdout",
     "output_type": "stream",
     "text": [
      "Epoch [24/500] Train Loss: 0.1104 | Val Loss: 0.1313\n",
      "Epoch [25/500] Train Loss: 0.1101 | Val Loss: 0.0966\n"
     ]
    },
    {
     "name": "stderr",
     "output_type": "stream",
     "text": [
      "Epochs:   5%|▌         | 26/500 [25:35<7:46:03, 59.00s/it]"
     ]
    },
    {
     "name": "stdout",
     "output_type": "stream",
     "text": [
      "Epoch [26/500] Train Loss: 0.0987 | Val Loss: 0.1055\n"
     ]
    },
    {
     "name": "stderr",
     "output_type": "stream",
     "text": [
      "Epochs:   5%|▌         | 27/500 [26:34<7:44:52, 58.97s/it]"
     ]
    },
    {
     "name": "stdout",
     "output_type": "stream",
     "text": [
      "Epoch [27/500] Train Loss: 0.1002 | Val Loss: 0.1181\n",
      "Epoch [28/500] Train Loss: 0.0973 | Val Loss: 0.0891\n"
     ]
    },
    {
     "name": "stderr",
     "output_type": "stream",
     "text": [
      "Epochs:   6%|▌         | 29/500 [28:33<7:44:06, 59.12s/it]"
     ]
    },
    {
     "name": "stdout",
     "output_type": "stream",
     "text": [
      "Epoch [29/500] Train Loss: 0.1016 | Val Loss: 0.1142\n",
      "Epoch [30/500] Train Loss: 0.0989 | Val Loss: 0.0855\n"
     ]
    },
    {
     "name": "stderr",
     "output_type": "stream",
     "text": [
      "Epochs:   6%|▌         | 31/500 [30:30<7:39:31, 58.79s/it]"
     ]
    },
    {
     "name": "stdout",
     "output_type": "stream",
     "text": [
      "Epoch [31/500] Train Loss: 0.0959 | Val Loss: 0.0999\n"
     ]
    },
    {
     "name": "stderr",
     "output_type": "stream",
     "text": [
      "Epochs:   6%|▋         | 32/500 [31:28<7:36:51, 58.57s/it]"
     ]
    },
    {
     "name": "stdout",
     "output_type": "stream",
     "text": [
      "Epoch [32/500] Train Loss: 0.0927 | Val Loss: 0.0942\n"
     ]
    },
    {
     "name": "stderr",
     "output_type": "stream",
     "text": [
      "Epochs:   7%|▋         | 33/500 [32:27<7:35:48, 58.56s/it]"
     ]
    },
    {
     "name": "stdout",
     "output_type": "stream",
     "text": [
      "Epoch [33/500] Train Loss: 0.1015 | Val Loss: 0.0983\n"
     ]
    },
    {
     "name": "stderr",
     "output_type": "stream",
     "text": [
      "Epochs:   7%|▋         | 34/500 [33:25<7:35:01, 58.59s/it]"
     ]
    },
    {
     "name": "stdout",
     "output_type": "stream",
     "text": [
      "Epoch [34/500] Train Loss: 0.0882 | Val Loss: 0.1257\n"
     ]
    },
    {
     "name": "stderr",
     "output_type": "stream",
     "text": [
      "Epochs:   7%|▋         | 35/500 [34:24<7:34:18, 58.62s/it]"
     ]
    },
    {
     "name": "stdout",
     "output_type": "stream",
     "text": [
      "Epoch [35/500] Train Loss: 0.0981 | Val Loss: 0.0939\n"
     ]
    },
    {
     "name": "stderr",
     "output_type": "stream",
     "text": [
      "Epochs:   7%|▋         | 36/500 [35:22<7:33:09, 58.60s/it]"
     ]
    },
    {
     "name": "stdout",
     "output_type": "stream",
     "text": [
      "Epoch [36/500] Train Loss: 0.0846 | Val Loss: 0.1146\n"
     ]
    },
    {
     "name": "stderr",
     "output_type": "stream",
     "text": [
      "Epochs:   7%|▋         | 37/500 [36:22<7:33:28, 58.77s/it]"
     ]
    },
    {
     "name": "stdout",
     "output_type": "stream",
     "text": [
      "Epoch [37/500] Train Loss: 0.0858 | Val Loss: 0.0890\n",
      "Epoch [38/500] Train Loss: 0.0878 | Val Loss: 0.0787\n"
     ]
    },
    {
     "name": "stderr",
     "output_type": "stream",
     "text": [
      "Epochs:   8%|▊         | 39/500 [38:20<7:33:19, 59.00s/it]"
     ]
    },
    {
     "name": "stdout",
     "output_type": "stream",
     "text": [
      "Epoch [39/500] Train Loss: 0.0801 | Val Loss: 0.0906\n",
      "Epoch [40/500] Train Loss: 0.0889 | Val Loss: 0.0751\n"
     ]
    },
    {
     "name": "stderr",
     "output_type": "stream",
     "text": [
      "Epochs:   8%|▊         | 40/500 [39:20<7:33:35, 59.16s/it]"
     ]
    },
    {
     "name": "stdout",
     "output_type": "stream",
     "text": [
      "Epoch [41/500] Train Loss: 0.0718 | Val Loss: 0.0682\n"
     ]
    },
    {
     "name": "stderr",
     "output_type": "stream",
     "text": [
      "Epochs:   8%|▊         | 42/500 [41:18<7:31:49, 59.19s/it]"
     ]
    },
    {
     "name": "stdout",
     "output_type": "stream",
     "text": [
      "Epoch [42/500] Train Loss: 0.0751 | Val Loss: 0.0927\n"
     ]
    },
    {
     "name": "stderr",
     "output_type": "stream",
     "text": [
      "Epochs:   9%|▊         | 43/500 [42:17<7:30:22, 59.13s/it]"
     ]
    },
    {
     "name": "stdout",
     "output_type": "stream",
     "text": [
      "Epoch [43/500] Train Loss: 0.0810 | Val Loss: 0.0807\n"
     ]
    },
    {
     "name": "stderr",
     "output_type": "stream",
     "text": [
      "Epochs:   9%|▉         | 44/500 [43:16<7:29:11, 59.10s/it]"
     ]
    },
    {
     "name": "stdout",
     "output_type": "stream",
     "text": [
      "Epoch [44/500] Train Loss: 0.0764 | Val Loss: 0.0723\n"
     ]
    },
    {
     "name": "stderr",
     "output_type": "stream",
     "text": [
      "Epochs:   9%|▉         | 45/500 [44:15<7:28:28, 59.14s/it]"
     ]
    },
    {
     "name": "stdout",
     "output_type": "stream",
     "text": [
      "Epoch [45/500] Train Loss: 0.0730 | Val Loss: 0.0937\n",
      "Epoch [46/500] Train Loss: 0.0674 | Val Loss: 0.0639\n"
     ]
    },
    {
     "name": "stderr",
     "output_type": "stream",
     "text": [
      "Epochs:   9%|▉         | 47/500 [46:13<7:24:40, 58.90s/it]"
     ]
    },
    {
     "name": "stdout",
     "output_type": "stream",
     "text": [
      "Epoch [47/500] Train Loss: 0.0719 | Val Loss: 0.0739\n"
     ]
    },
    {
     "name": "stderr",
     "output_type": "stream",
     "text": [
      "Epochs:  10%|▉         | 48/500 [47:11<7:22:03, 58.68s/it]"
     ]
    },
    {
     "name": "stdout",
     "output_type": "stream",
     "text": [
      "Epoch [48/500] Train Loss: 0.0728 | Val Loss: 0.0749\n"
     ]
    },
    {
     "name": "stderr",
     "output_type": "stream",
     "text": [
      "Epochs:  10%|▉         | 49/500 [48:09<7:19:36, 58.48s/it]"
     ]
    },
    {
     "name": "stdout",
     "output_type": "stream",
     "text": [
      "Epoch [49/500] Train Loss: 0.0689 | Val Loss: 0.0705\n",
      "Epoch [50/500] Train Loss: 0.0622 | Val Loss: 0.0601\n"
     ]
    },
    {
     "name": "stderr",
     "output_type": "stream",
     "text": [
      "Epochs:  10%|█         | 50/500 [49:07<7:17:12, 58.30s/it]"
     ]
    },
    {
     "name": "stdout",
     "output_type": "stream",
     "text": [
      "Epoch [51/500] Train Loss: 0.0600 | Val Loss: 0.0527\n"
     ]
    },
    {
     "name": "stderr",
     "output_type": "stream",
     "text": [
      "Epochs:  10%|█         | 52/500 [51:01<7:10:38, 57.67s/it]"
     ]
    },
    {
     "name": "stdout",
     "output_type": "stream",
     "text": [
      "Epoch [52/500] Train Loss: 0.0656 | Val Loss: 0.0914\n"
     ]
    },
    {
     "name": "stderr",
     "output_type": "stream",
     "text": [
      "Epochs:  11%|█         | 53/500 [51:58<7:08:50, 57.56s/it]"
     ]
    },
    {
     "name": "stdout",
     "output_type": "stream",
     "text": [
      "Epoch [53/500] Train Loss: 0.0647 | Val Loss: 0.0667\n"
     ]
    },
    {
     "name": "stderr",
     "output_type": "stream",
     "text": [
      "Epochs:  11%|█         | 54/500 [52:55<7:06:39, 57.40s/it]"
     ]
    },
    {
     "name": "stdout",
     "output_type": "stream",
     "text": [
      "Epoch [54/500] Train Loss: 0.0622 | Val Loss: 0.0666\n"
     ]
    },
    {
     "name": "stderr",
     "output_type": "stream",
     "text": [
      "Epochs:  11%|█         | 55/500 [53:52<7:04:49, 57.28s/it]"
     ]
    },
    {
     "name": "stdout",
     "output_type": "stream",
     "text": [
      "Epoch [55/500] Train Loss: 0.0570 | Val Loss: 0.0738\n"
     ]
    },
    {
     "name": "stderr",
     "output_type": "stream",
     "text": [
      "Epochs:  11%|█         | 56/500 [54:50<7:03:45, 57.26s/it]"
     ]
    },
    {
     "name": "stdout",
     "output_type": "stream",
     "text": [
      "Epoch [56/500] Train Loss: 0.0548 | Val Loss: 0.0645\n",
      "Epoch [57/500] Train Loss: 0.0578 | Val Loss: 0.0523\n"
     ]
    },
    {
     "name": "stderr",
     "output_type": "stream",
     "text": [
      "Epochs:  12%|█▏        | 58/500 [56:45<7:04:18, 57.60s/it]"
     ]
    },
    {
     "name": "stdout",
     "output_type": "stream",
     "text": [
      "Epoch [58/500] Train Loss: 0.0551 | Val Loss: 0.0695\n"
     ]
    },
    {
     "name": "stderr",
     "output_type": "stream",
     "text": [
      "Epochs:  12%|█▏        | 59/500 [57:43<7:04:28, 57.75s/it]"
     ]
    },
    {
     "name": "stdout",
     "output_type": "stream",
     "text": [
      "Epoch [59/500] Train Loss: 0.0507 | Val Loss: 0.0828\n",
      "Epoch [60/500] Train Loss: 0.0523 | Val Loss: 0.0522\n"
     ]
    },
    {
     "name": "stderr",
     "output_type": "stream",
     "text": [
      "Epochs:  12%|█▏        | 60/500 [58:42<7:04:38, 57.91s/it]"
     ]
    },
    {
     "name": "stdout",
     "output_type": "stream",
     "text": [
      "Epoch [61/500] Train Loss: 0.0463 | Val Loss: 0.0468\n"
     ]
    },
    {
     "name": "stderr",
     "output_type": "stream",
     "text": [
      "Epochs:  12%|█▏        | 62/500 [1:00:39<7:05:40, 58.31s/it]"
     ]
    },
    {
     "name": "stdout",
     "output_type": "stream",
     "text": [
      "Epoch [62/500] Train Loss: 0.0515 | Val Loss: 0.0997\n"
     ]
    },
    {
     "name": "stderr",
     "output_type": "stream",
     "text": [
      "Epochs:  13%|█▎        | 63/500 [1:01:37<7:04:34, 58.29s/it]"
     ]
    },
    {
     "name": "stdout",
     "output_type": "stream",
     "text": [
      "Epoch [63/500] Train Loss: 0.0514 | Val Loss: 0.0488\n"
     ]
    },
    {
     "name": "stderr",
     "output_type": "stream",
     "text": [
      "Epochs:  13%|█▎        | 64/500 [1:02:36<7:03:35, 58.29s/it]"
     ]
    },
    {
     "name": "stdout",
     "output_type": "stream",
     "text": [
      "Epoch [64/500] Train Loss: 0.0516 | Val Loss: 0.0519\n",
      "Epoch [65/500] Train Loss: 0.0506 | Val Loss: 0.0388\n"
     ]
    },
    {
     "name": "stderr",
     "output_type": "stream",
     "text": [
      "Epochs:  13%|█▎        | 66/500 [1:04:33<7:02:38, 58.43s/it]"
     ]
    },
    {
     "name": "stdout",
     "output_type": "stream",
     "text": [
      "Epoch [66/500] Train Loss: 0.0416 | Val Loss: 0.0415\n"
     ]
    },
    {
     "name": "stderr",
     "output_type": "stream",
     "text": [
      "Epochs:  13%|█▎        | 67/500 [1:05:31<7:01:36, 58.42s/it]"
     ]
    },
    {
     "name": "stdout",
     "output_type": "stream",
     "text": [
      "Epoch [67/500] Train Loss: 0.0477 | Val Loss: 0.0398\n"
     ]
    },
    {
     "name": "stderr",
     "output_type": "stream",
     "text": [
      "Epochs:  14%|█▎        | 68/500 [1:06:30<7:00:56, 58.47s/it]"
     ]
    },
    {
     "name": "stdout",
     "output_type": "stream",
     "text": [
      "Epoch [68/500] Train Loss: 0.0429 | Val Loss: 0.0532\n",
      "Epoch [69/500] Train Loss: 0.0403 | Val Loss: 0.0381\n"
     ]
    },
    {
     "name": "stderr",
     "output_type": "stream",
     "text": [
      "Epochs:  14%|█▍        | 70/500 [1:08:28<7:00:39, 58.70s/it]"
     ]
    },
    {
     "name": "stdout",
     "output_type": "stream",
     "text": [
      "Epoch [70/500] Train Loss: 0.0428 | Val Loss: 0.0416\n"
     ]
    },
    {
     "name": "stderr",
     "output_type": "stream",
     "text": [
      "Epochs:  14%|█▍        | 71/500 [1:09:27<7:00:53, 58.87s/it]"
     ]
    },
    {
     "name": "stdout",
     "output_type": "stream",
     "text": [
      "Epoch [71/500] Train Loss: 0.0379 | Val Loss: 0.0410\n"
     ]
    },
    {
     "name": "stderr",
     "output_type": "stream",
     "text": [
      "Epochs:  14%|█▍        | 72/500 [1:10:25<6:58:56, 58.73s/it]"
     ]
    },
    {
     "name": "stdout",
     "output_type": "stream",
     "text": [
      "Epoch [72/500] Train Loss: 0.0446 | Val Loss: 0.0389\n",
      "Epoch [73/500] Train Loss: 0.0299 | Val Loss: 0.0281\n"
     ]
    },
    {
     "name": "stderr",
     "output_type": "stream",
     "text": [
      "Epochs:  15%|█▍        | 74/500 [1:12:23<6:56:43, 58.69s/it]"
     ]
    },
    {
     "name": "stdout",
     "output_type": "stream",
     "text": [
      "Epoch [74/500] Train Loss: 0.0370 | Val Loss: 0.0322\n"
     ]
    },
    {
     "name": "stderr",
     "output_type": "stream",
     "text": [
      "Epochs:  15%|█▌        | 75/500 [1:13:21<6:55:19, 58.63s/it]"
     ]
    },
    {
     "name": "stdout",
     "output_type": "stream",
     "text": [
      "Epoch [75/500] Train Loss: 0.0417 | Val Loss: 0.0369\n"
     ]
    },
    {
     "name": "stderr",
     "output_type": "stream",
     "text": [
      "Epochs:  15%|█▌        | 76/500 [1:14:20<6:54:31, 58.66s/it]"
     ]
    },
    {
     "name": "stdout",
     "output_type": "stream",
     "text": [
      "Epoch [76/500] Train Loss: 0.0359 | Val Loss: 0.0322\n"
     ]
    },
    {
     "name": "stderr",
     "output_type": "stream",
     "text": [
      "Epochs:  15%|█▌        | 77/500 [1:15:18<6:53:26, 58.64s/it]"
     ]
    },
    {
     "name": "stdout",
     "output_type": "stream",
     "text": [
      "Epoch [77/500] Train Loss: 0.0333 | Val Loss: 0.0369\n"
     ]
    },
    {
     "name": "stderr",
     "output_type": "stream",
     "text": [
      "Epochs:  16%|█▌        | 78/500 [1:16:17<6:51:43, 58.54s/it]"
     ]
    },
    {
     "name": "stdout",
     "output_type": "stream",
     "text": [
      "Epoch [78/500] Train Loss: 0.0295 | Val Loss: 0.0317\n",
      "Epoch [79/500] Train Loss: 0.0293 | Val Loss: 0.0278\n"
     ]
    },
    {
     "name": "stderr",
     "output_type": "stream",
     "text": [
      "Epochs:  16%|█▌        | 79/500 [1:17:15<6:50:57, 58.57s/it]"
     ]
    },
    {
     "name": "stdout",
     "output_type": "stream",
     "text": [
      "Epoch [80/500] Train Loss: 0.0312 | Val Loss: 0.0265\n"
     ]
    },
    {
     "name": "stderr",
     "output_type": "stream",
     "text": [
      "Epochs:  16%|█▌        | 81/500 [1:19:13<6:49:20, 58.62s/it]"
     ]
    },
    {
     "name": "stdout",
     "output_type": "stream",
     "text": [
      "Epoch [81/500] Train Loss: 0.0308 | Val Loss: 0.0540\n"
     ]
    },
    {
     "name": "stderr",
     "output_type": "stream",
     "text": [
      "Epochs:  16%|█▋        | 82/500 [1:20:11<6:47:03, 58.43s/it]"
     ]
    },
    {
     "name": "stdout",
     "output_type": "stream",
     "text": [
      "Epoch [82/500] Train Loss: 0.0341 | Val Loss: 0.0317\n"
     ]
    },
    {
     "name": "stderr",
     "output_type": "stream",
     "text": [
      "Epochs:  17%|█▋        | 83/500 [1:21:09<6:46:29, 58.49s/it]"
     ]
    },
    {
     "name": "stdout",
     "output_type": "stream",
     "text": [
      "Epoch [83/500] Train Loss: 0.0316 | Val Loss: 0.0301\n"
     ]
    },
    {
     "name": "stderr",
     "output_type": "stream",
     "text": [
      "Epochs:  17%|█▋        | 84/500 [1:22:08<6:44:52, 58.39s/it]"
     ]
    },
    {
     "name": "stdout",
     "output_type": "stream",
     "text": [
      "Epoch [84/500] Train Loss: 0.0341 | Val Loss: 0.0287\n"
     ]
    },
    {
     "name": "stderr",
     "output_type": "stream",
     "text": [
      "Epochs:  17%|█▋        | 85/500 [1:23:06<6:44:03, 58.42s/it]"
     ]
    },
    {
     "name": "stdout",
     "output_type": "stream",
     "text": [
      "Epoch [85/500] Train Loss: 0.0328 | Val Loss: 0.0335\n"
     ]
    },
    {
     "name": "stderr",
     "output_type": "stream",
     "text": [
      "Epochs:  17%|█▋        | 86/500 [1:24:04<6:42:52, 58.39s/it]"
     ]
    },
    {
     "name": "stdout",
     "output_type": "stream",
     "text": [
      "Epoch [86/500] Train Loss: 0.0316 | Val Loss: 0.0338\n",
      "Epoch [87/500] Train Loss: 0.0294 | Val Loss: 0.0261\n"
     ]
    },
    {
     "name": "stderr",
     "output_type": "stream",
     "text": [
      "Epochs:  17%|█▋        | 87/500 [1:25:03<6:42:11, 58.43s/it]"
     ]
    },
    {
     "name": "stdout",
     "output_type": "stream",
     "text": [
      "Epoch [88/500] Train Loss: 0.0264 | Val Loss: 0.0239\n"
     ]
    },
    {
     "name": "stderr",
     "output_type": "stream",
     "text": [
      "Epochs:  18%|█▊        | 89/500 [1:27:00<6:40:33, 58.47s/it]"
     ]
    },
    {
     "name": "stdout",
     "output_type": "stream",
     "text": [
      "Epoch [89/500] Train Loss: 0.0256 | Val Loss: 0.0263\n",
      "Epoch [90/500] Train Loss: 0.0250 | Val Loss: 0.0220\n"
     ]
    },
    {
     "name": "stderr",
     "output_type": "stream",
     "text": [
      "Epochs:  18%|█▊        | 90/500 [1:27:59<6:40:07, 58.56s/it]"
     ]
    },
    {
     "name": "stdout",
     "output_type": "stream",
     "text": [
      "Epoch [91/500] Train Loss: 0.0217 | Val Loss: 0.0198\n"
     ]
    },
    {
     "name": "stderr",
     "output_type": "stream",
     "text": [
      "Epochs:  18%|█▊        | 91/500 [1:28:58<6:40:22, 58.74s/it]"
     ]
    },
    {
     "name": "stdout",
     "output_type": "stream",
     "text": [
      "Epoch [92/500] Train Loss: 0.0212 | Val Loss: 0.0196\n"
     ]
    },
    {
     "name": "stderr",
     "output_type": "stream",
     "text": [
      "Epochs:  19%|█▊        | 93/500 [1:30:55<6:38:03, 58.68s/it]"
     ]
    },
    {
     "name": "stdout",
     "output_type": "stream",
     "text": [
      "Epoch [93/500] Train Loss: 0.0239 | Val Loss: 0.0218\n"
     ]
    },
    {
     "name": "stderr",
     "output_type": "stream",
     "text": [
      "Epochs:  19%|█▉        | 94/500 [1:31:53<6:35:38, 58.47s/it]"
     ]
    },
    {
     "name": "stdout",
     "output_type": "stream",
     "text": [
      "Epoch [94/500] Train Loss: 0.0234 | Val Loss: 0.0284\n"
     ]
    },
    {
     "name": "stderr",
     "output_type": "stream",
     "text": [
      "Epochs:  19%|█▉        | 95/500 [1:32:52<6:35:16, 58.56s/it]"
     ]
    },
    {
     "name": "stdout",
     "output_type": "stream",
     "text": [
      "Epoch [95/500] Train Loss: 0.0270 | Val Loss: 0.0263\n"
     ]
    },
    {
     "name": "stderr",
     "output_type": "stream",
     "text": [
      "Epochs:  19%|█▉        | 96/500 [1:33:50<6:33:38, 58.46s/it]"
     ]
    },
    {
     "name": "stdout",
     "output_type": "stream",
     "text": [
      "Epoch [96/500] Train Loss: 0.0293 | Val Loss: 0.0288\n"
     ]
    },
    {
     "name": "stderr",
     "output_type": "stream",
     "text": [
      "Epochs:  19%|█▉        | 97/500 [1:34:49<6:33:38, 58.61s/it]"
     ]
    },
    {
     "name": "stdout",
     "output_type": "stream",
     "text": [
      "Epoch [97/500] Train Loss: 0.0311 | Val Loss: 0.0273\n"
     ]
    },
    {
     "name": "stderr",
     "output_type": "stream",
     "text": [
      "Epochs:  20%|█▉        | 98/500 [1:35:48<6:32:59, 58.65s/it]"
     ]
    },
    {
     "name": "stdout",
     "output_type": "stream",
     "text": [
      "Epoch [98/500] Train Loss: 0.0271 | Val Loss: 0.0265\n"
     ]
    },
    {
     "name": "stderr",
     "output_type": "stream",
     "text": [
      "Epochs:  20%|█▉        | 99/500 [1:36:47<6:32:37, 58.75s/it]"
     ]
    },
    {
     "name": "stdout",
     "output_type": "stream",
     "text": [
      "Epoch [99/500] Train Loss: 0.0259 | Val Loss: 0.0245\n"
     ]
    },
    {
     "name": "stderr",
     "output_type": "stream",
     "text": [
      "Epochs:  20%|██        | 100/500 [1:37:45<6:31:20, 58.70s/it]"
     ]
    },
    {
     "name": "stdout",
     "output_type": "stream",
     "text": [
      "Epoch [100/500] Train Loss: 0.0313 | Val Loss: 0.0697\n"
     ]
    },
    {
     "name": "stderr",
     "output_type": "stream",
     "text": [
      "Epochs:  20%|██        | 101/500 [1:38:44<6:29:56, 58.64s/it]"
     ]
    },
    {
     "name": "stdout",
     "output_type": "stream",
     "text": [
      "Epoch [101/500] Train Loss: 0.0378 | Val Loss: 0.0291\n"
     ]
    },
    {
     "name": "stderr",
     "output_type": "stream",
     "text": [
      "Epochs:  20%|██        | 102/500 [1:39:43<6:29:44, 58.76s/it]"
     ]
    },
    {
     "name": "stdout",
     "output_type": "stream",
     "text": [
      "Epoch [102/500] Train Loss: 0.0266 | Val Loss: 0.0687\n"
     ]
    },
    {
     "name": "stderr",
     "output_type": "stream",
     "text": [
      "Epochs:  21%|██        | 103/500 [1:40:43<6:30:56, 59.09s/it]"
     ]
    },
    {
     "name": "stdout",
     "output_type": "stream",
     "text": [
      "Epoch [103/500] Train Loss: 0.0265 | Val Loss: 0.0204\n",
      "Epoch [104/500] Train Loss: 0.0208 | Val Loss: 0.0185\n"
     ]
    },
    {
     "name": "stderr",
     "output_type": "stream",
     "text": [
      "Epochs:  21%|██        | 105/500 [1:42:41<6:29:14, 59.13s/it]"
     ]
    },
    {
     "name": "stdout",
     "output_type": "stream",
     "text": [
      "Epoch [105/500] Train Loss: 0.0194 | Val Loss: 0.0191\n",
      "Epoch [106/500] Train Loss: 0.0215 | Val Loss: 0.0177\n"
     ]
    },
    {
     "name": "stderr",
     "output_type": "stream",
     "text": [
      "Epochs:  21%|██        | 106/500 [1:43:39<6:26:46, 58.90s/it]"
     ]
    },
    {
     "name": "stdout",
     "output_type": "stream",
     "text": [
      "Epoch [107/500] Train Loss: 0.0174 | Val Loss: 0.0173\n"
     ]
    },
    {
     "name": "stderr",
     "output_type": "stream",
     "text": [
      "Epochs:  22%|██▏       | 108/500 [1:45:36<6:22:43, 58.58s/it]"
     ]
    },
    {
     "name": "stdout",
     "output_type": "stream",
     "text": [
      "Epoch [108/500] Train Loss: 0.0172 | Val Loss: 0.0178\n"
     ]
    },
    {
     "name": "stderr",
     "output_type": "stream",
     "text": [
      "Epochs:  22%|██▏       | 109/500 [1:46:35<6:21:39, 58.57s/it]"
     ]
    },
    {
     "name": "stdout",
     "output_type": "stream",
     "text": [
      "Epoch [109/500] Train Loss: 0.0172 | Val Loss: 0.0180\n",
      "Epoch [110/500] Train Loss: 0.0187 | Val Loss: 0.0170\n"
     ]
    },
    {
     "name": "stderr",
     "output_type": "stream",
     "text": [
      "Epochs:  22%|██▏       | 111/500 [1:49:00<7:09:49, 66.30s/it]"
     ]
    },
    {
     "name": "stdout",
     "output_type": "stream",
     "text": [
      "Epoch [111/500] Train Loss: 0.0170 | Val Loss: 0.0179\n",
      "Epoch [112/500] Train Loss: 0.0184 | Val Loss: 0.0167\n"
     ]
    },
    {
     "name": "stderr",
     "output_type": "stream",
     "text": [
      "Epochs:  22%|██▏       | 112/500 [1:50:17<7:29:02, 69.44s/it]"
     ]
    },
    {
     "name": "stdout",
     "output_type": "stream",
     "text": [
      "Epoch [113/500] Train Loss: 0.0174 | Val Loss: 0.0156\n"
     ]
    },
    {
     "name": "stderr",
     "output_type": "stream",
     "text": [
      "Epochs:  23%|██▎       | 114/500 [1:52:50<7:50:53, 73.19s/it]"
     ]
    },
    {
     "name": "stdout",
     "output_type": "stream",
     "text": [
      "Epoch [114/500] Train Loss: 0.0166 | Val Loss: 0.0167\n"
     ]
    },
    {
     "name": "stderr",
     "output_type": "stream",
     "text": [
      "Epochs:  23%|██▎       | 115/500 [1:54:08<7:59:08, 74.67s/it]"
     ]
    },
    {
     "name": "stdout",
     "output_type": "stream",
     "text": [
      "Epoch [115/500] Train Loss: 0.0175 | Val Loss: 0.0166\n"
     ]
    },
    {
     "name": "stderr",
     "output_type": "stream",
     "text": [
      "Epochs:  23%|██▎       | 116/500 [1:55:25<8:01:39, 75.26s/it]"
     ]
    },
    {
     "name": "stdout",
     "output_type": "stream",
     "text": [
      "Epoch [116/500] Train Loss: 0.0186 | Val Loss: 0.0166\n"
     ]
    },
    {
     "name": "stderr",
     "output_type": "stream",
     "text": [
      "Epochs:  23%|██▎       | 117/500 [1:56:41<8:02:46, 75.63s/it]"
     ]
    },
    {
     "name": "stdout",
     "output_type": "stream",
     "text": [
      "Epoch [117/500] Train Loss: 0.0172 | Val Loss: 0.0168\n"
     ]
    },
    {
     "name": "stderr",
     "output_type": "stream",
     "text": [
      "Epochs:  24%|██▎       | 118/500 [1:57:58<8:03:21, 75.92s/it]"
     ]
    },
    {
     "name": "stdout",
     "output_type": "stream",
     "text": [
      "Epoch [118/500] Train Loss: 0.0163 | Val Loss: 0.0176\n",
      "Epoch [119/500] Train Loss: 0.0161 | Val Loss: 0.0150\n"
     ]
    },
    {
     "name": "stderr",
     "output_type": "stream",
     "text": [
      "Epochs:  24%|██▍       | 120/500 [2:00:32<8:04:47, 76.55s/it]"
     ]
    },
    {
     "name": "stdout",
     "output_type": "stream",
     "text": [
      "Epoch [120/500] Train Loss: 0.0166 | Val Loss: 0.0160\n",
      "Epoch [121/500] Train Loss: 0.0163 | Val Loss: 0.0147\n"
     ]
    },
    {
     "name": "stderr",
     "output_type": "stream",
     "text": [
      "Epochs:  24%|██▍       | 122/500 [2:03:07<8:05:08, 77.01s/it]"
     ]
    },
    {
     "name": "stdout",
     "output_type": "stream",
     "text": [
      "Epoch [122/500] Train Loss: 0.0152 | Val Loss: 0.0149\n"
     ]
    },
    {
     "name": "stderr",
     "output_type": "stream",
     "text": [
      "Epochs:  25%|██▍       | 123/500 [2:04:23<8:02:28, 76.79s/it]"
     ]
    },
    {
     "name": "stdout",
     "output_type": "stream",
     "text": [
      "Epoch [123/500] Train Loss: 0.0157 | Val Loss: 0.0152\n"
     ]
    },
    {
     "name": "stderr",
     "output_type": "stream",
     "text": [
      "Epochs:  25%|██▍       | 124/500 [2:05:38<7:57:27, 76.19s/it]"
     ]
    },
    {
     "name": "stdout",
     "output_type": "stream",
     "text": [
      "Epoch [124/500] Train Loss: 0.0160 | Val Loss: 0.0153\n"
     ]
    },
    {
     "name": "stderr",
     "output_type": "stream",
     "text": [
      "Epochs:  25%|██▌       | 125/500 [2:06:56<7:59:27, 76.71s/it]"
     ]
    },
    {
     "name": "stdout",
     "output_type": "stream",
     "text": [
      "Epoch [125/500] Train Loss: 0.0141 | Val Loss: 0.0150\n",
      "Epoch [126/500] Train Loss: 0.0160 | Val Loss: 0.0145\n"
     ]
    },
    {
     "name": "stderr",
     "output_type": "stream",
     "text": [
      "Epochs:  25%|██▌       | 127/500 [2:09:29<7:57:30, 76.81s/it]"
     ]
    },
    {
     "name": "stdout",
     "output_type": "stream",
     "text": [
      "Epoch [127/500] Train Loss: 0.0162 | Val Loss: 0.0157\n"
     ]
    },
    {
     "name": "stderr",
     "output_type": "stream",
     "text": [
      "Epochs:  26%|██▌       | 128/500 [2:10:47<7:57:06, 76.95s/it]"
     ]
    },
    {
     "name": "stdout",
     "output_type": "stream",
     "text": [
      "Epoch [128/500] Train Loss: 0.0154 | Val Loss: 0.0146\n",
      "Epoch [129/500] Train Loss: 0.0150 | Val Loss: 0.0133\n"
     ]
    },
    {
     "name": "stderr",
     "output_type": "stream",
     "text": [
      "Epochs:  26%|██▌       | 130/500 [2:13:19<7:51:20, 76.43s/it]"
     ]
    },
    {
     "name": "stdout",
     "output_type": "stream",
     "text": [
      "Epoch [130/500] Train Loss: 0.0153 | Val Loss: 0.0144\n"
     ]
    },
    {
     "name": "stderr",
     "output_type": "stream",
     "text": [
      "Epochs:  26%|██▌       | 131/500 [2:14:38<7:55:39, 77.34s/it]"
     ]
    },
    {
     "name": "stdout",
     "output_type": "stream",
     "text": [
      "Epoch [131/500] Train Loss: 0.0153 | Val Loss: 0.0150\n"
     ]
    },
    {
     "name": "stderr",
     "output_type": "stream",
     "text": [
      "Epochs:  26%|██▋       | 132/500 [2:15:54<7:51:12, 76.83s/it]"
     ]
    },
    {
     "name": "stdout",
     "output_type": "stream",
     "text": [
      "Epoch [132/500] Train Loss: 0.0153 | Val Loss: 0.0141\n"
     ]
    },
    {
     "name": "stderr",
     "output_type": "stream",
     "text": [
      "Epochs:  27%|██▋       | 133/500 [2:17:11<7:50:10, 76.87s/it]"
     ]
    },
    {
     "name": "stdout",
     "output_type": "stream",
     "text": [
      "Epoch [133/500] Train Loss: 0.0150 | Val Loss: 0.0138\n",
      "Epoch [134/500] Train Loss: 0.0155 | Val Loss: 0.0133\n"
     ]
    },
    {
     "name": "stderr",
     "output_type": "stream",
     "text": [
      "Epochs:  27%|██▋       | 135/500 [2:19:18<7:03:14, 69.57s/it]"
     ]
    },
    {
     "name": "stdout",
     "output_type": "stream",
     "text": [
      "Epoch [135/500] Train Loss: 0.0142 | Val Loss: 0.0142\n"
     ]
    },
    {
     "name": "stderr",
     "output_type": "stream",
     "text": [
      "Epochs:  27%|██▋       | 136/500 [2:20:34<7:12:57, 71.37s/it]"
     ]
    },
    {
     "name": "stdout",
     "output_type": "stream",
     "text": [
      "Epoch [136/500] Train Loss: 0.0142 | Val Loss: 0.0136\n"
     ]
    },
    {
     "name": "stderr",
     "output_type": "stream",
     "text": [
      "Epochs:  27%|██▋       | 137/500 [2:21:50<7:20:32, 72.82s/it]"
     ]
    },
    {
     "name": "stdout",
     "output_type": "stream",
     "text": [
      "Epoch [137/500] Train Loss: 0.0157 | Val Loss: 0.0146\n"
     ]
    },
    {
     "name": "stderr",
     "output_type": "stream",
     "text": [
      "Epochs:  28%|██▊       | 138/500 [2:23:05<7:24:18, 73.64s/it]"
     ]
    },
    {
     "name": "stdout",
     "output_type": "stream",
     "text": [
      "Epoch [138/500] Train Loss: 0.0161 | Val Loss: 0.0139\n",
      "Epoch [139/500] Train Loss: 0.0152 | Val Loss: 0.0132\n"
     ]
    },
    {
     "name": "stderr",
     "output_type": "stream",
     "text": [
      "Epochs:  28%|██▊       | 140/500 [2:25:36<7:27:37, 74.60s/it]"
     ]
    },
    {
     "name": "stdout",
     "output_type": "stream",
     "text": [
      "Epoch [140/500] Train Loss: 0.0133 | Val Loss: 0.0138\n"
     ]
    },
    {
     "name": "stderr",
     "output_type": "stream",
     "text": [
      "Epochs:  28%|██▊       | 141/500 [2:26:52<7:29:09, 75.07s/it]"
     ]
    },
    {
     "name": "stdout",
     "output_type": "stream",
     "text": [
      "Epoch [141/500] Train Loss: 0.0134 | Val Loss: 0.0135\n",
      "Epoch [142/500] Train Loss: 0.0136 | Val Loss: 0.0131\n"
     ]
    },
    {
     "name": "stderr",
     "output_type": "stream",
     "text": [
      "Epochs:  29%|██▊       | 143/500 [2:29:24<7:29:04, 75.48s/it]"
     ]
    },
    {
     "name": "stdout",
     "output_type": "stream",
     "text": [
      "Epoch [143/500] Train Loss: 0.0139 | Val Loss: 0.0133\n"
     ]
    },
    {
     "name": "stderr",
     "output_type": "stream",
     "text": [
      "Epochs:  29%|██▉       | 144/500 [2:30:42<7:31:57, 76.17s/it]"
     ]
    },
    {
     "name": "stdout",
     "output_type": "stream",
     "text": [
      "Epoch [144/500] Train Loss: 0.0142 | Val Loss: 0.0134\n",
      "Epoch [145/500] Train Loss: 0.0124 | Val Loss: 0.0128\n"
     ]
    },
    {
     "name": "stderr",
     "output_type": "stream",
     "text": [
      "Epochs:  29%|██▉       | 145/500 [2:31:58<7:29:24, 75.96s/it]"
     ]
    },
    {
     "name": "stdout",
     "output_type": "stream",
     "text": [
      "Epoch [146/500] Train Loss: 0.0135 | Val Loss: 0.0126\n"
     ]
    },
    {
     "name": "stderr",
     "output_type": "stream",
     "text": [
      "Epochs:  29%|██▉       | 147/500 [2:34:28<7:25:24, 75.71s/it]"
     ]
    },
    {
     "name": "stdout",
     "output_type": "stream",
     "text": [
      "Epoch [147/500] Train Loss: 0.0133 | Val Loss: 0.0131\n"
     ]
    },
    {
     "name": "stderr",
     "output_type": "stream",
     "text": [
      "Epochs:  30%|██▉       | 148/500 [2:35:44<7:23:38, 75.62s/it]"
     ]
    },
    {
     "name": "stdout",
     "output_type": "stream",
     "text": [
      "Epoch [148/500] Train Loss: 0.0144 | Val Loss: 0.0126\n"
     ]
    },
    {
     "name": "stderr",
     "output_type": "stream",
     "text": [
      "Epochs:  30%|██▉       | 149/500 [2:36:59<7:21:21, 75.45s/it]"
     ]
    },
    {
     "name": "stdout",
     "output_type": "stream",
     "text": [
      "Epoch [149/500] Train Loss: 0.0145 | Val Loss: 0.0130\n"
     ]
    },
    {
     "name": "stderr",
     "output_type": "stream",
     "text": [
      "Epochs:  30%|███       | 150/500 [2:38:14<7:19:38, 75.37s/it]"
     ]
    },
    {
     "name": "stdout",
     "output_type": "stream",
     "text": [
      "Epoch [150/500] Train Loss: 0.0139 | Val Loss: 0.0130\n"
     ]
    },
    {
     "name": "stderr",
     "output_type": "stream",
     "text": [
      "Epochs:  30%|███       | 151/500 [2:39:29<7:18:28, 75.38s/it]"
     ]
    },
    {
     "name": "stdout",
     "output_type": "stream",
     "text": [
      "Epoch [151/500] Train Loss: 0.0129 | Val Loss: 0.0128\n"
     ]
    },
    {
     "name": "stderr",
     "output_type": "stream",
     "text": [
      "Epochs:  30%|███       | 152/500 [2:40:45<7:18:07, 75.54s/it]"
     ]
    },
    {
     "name": "stdout",
     "output_type": "stream",
     "text": [
      "Epoch [152/500] Train Loss: 0.0130 | Val Loss: 0.0137\n",
      "Epoch [153/500] Train Loss: 0.0135 | Val Loss: 0.0122\n"
     ]
    },
    {
     "name": "stderr",
     "output_type": "stream",
     "text": [
      "Epochs:  31%|███       | 154/500 [2:43:15<7:13:10, 75.12s/it]"
     ]
    },
    {
     "name": "stdout",
     "output_type": "stream",
     "text": [
      "Epoch [154/500] Train Loss: 0.0119 | Val Loss: 0.0129\n"
     ]
    },
    {
     "name": "stderr",
     "output_type": "stream",
     "text": [
      "Epochs:  31%|███       | 155/500 [2:44:30<7:10:58, 74.95s/it]"
     ]
    },
    {
     "name": "stdout",
     "output_type": "stream",
     "text": [
      "Epoch [155/500] Train Loss: 0.0131 | Val Loss: 0.0123\n",
      "Epoch [156/500] Train Loss: 0.0125 | Val Loss: 0.0116\n"
     ]
    },
    {
     "name": "stderr",
     "output_type": "stream",
     "text": [
      "Epochs:  31%|███▏      | 157/500 [2:47:01<7:10:02, 75.22s/it]"
     ]
    },
    {
     "name": "stdout",
     "output_type": "stream",
     "text": [
      "Epoch [157/500] Train Loss: 0.0130 | Val Loss: 0.0120\n"
     ]
    },
    {
     "name": "stderr",
     "output_type": "stream",
     "text": [
      "Epochs:  32%|███▏      | 158/500 [2:48:19<7:14:30, 76.23s/it]"
     ]
    },
    {
     "name": "stdout",
     "output_type": "stream",
     "text": [
      "Epoch [158/500] Train Loss: 0.0124 | Val Loss: 0.0119\n"
     ]
    },
    {
     "name": "stderr",
     "output_type": "stream",
     "text": [
      "Epochs:  32%|███▏      | 159/500 [2:49:35<7:11:59, 76.01s/it]"
     ]
    },
    {
     "name": "stdout",
     "output_type": "stream",
     "text": [
      "Epoch [159/500] Train Loss: 0.0127 | Val Loss: 0.0117\n"
     ]
    },
    {
     "name": "stderr",
     "output_type": "stream",
     "text": [
      "Epochs:  32%|███▏      | 160/500 [2:50:50<7:09:55, 75.87s/it]"
     ]
    },
    {
     "name": "stdout",
     "output_type": "stream",
     "text": [
      "Epoch [160/500] Train Loss: 0.0130 | Val Loss: 0.0122\n"
     ]
    },
    {
     "name": "stderr",
     "output_type": "stream",
     "text": [
      "Epochs:  32%|███▏      | 161/500 [2:52:05<7:06:34, 75.50s/it]"
     ]
    },
    {
     "name": "stdout",
     "output_type": "stream",
     "text": [
      "Epoch [161/500] Train Loss: 0.0128 | Val Loss: 0.0116\n"
     ]
    },
    {
     "name": "stderr",
     "output_type": "stream",
     "text": [
      "Epochs:  32%|███▏      | 162/500 [2:53:19<7:03:26, 75.17s/it]"
     ]
    },
    {
     "name": "stdout",
     "output_type": "stream",
     "text": [
      "Epoch [162/500] Train Loss: 0.0124 | Val Loss: 0.0119\n"
     ]
    },
    {
     "name": "stderr",
     "output_type": "stream",
     "text": [
      "Epochs:  33%|███▎      | 163/500 [2:54:35<7:03:01, 75.32s/it]"
     ]
    },
    {
     "name": "stdout",
     "output_type": "stream",
     "text": [
      "Epoch [163/500] Train Loss: 0.0122 | Val Loss: 0.0122\n",
      "Epoch [164/500] Train Loss: 0.0120 | Val Loss: 0.0113\n"
     ]
    },
    {
     "name": "stderr",
     "output_type": "stream",
     "text": [
      "Epochs:  33%|███▎      | 165/500 [2:57:07<7:02:40, 75.70s/it]"
     ]
    },
    {
     "name": "stdout",
     "output_type": "stream",
     "text": [
      "Epoch [165/500] Train Loss: 0.0130 | Val Loss: 0.0119\n"
     ]
    },
    {
     "name": "stderr",
     "output_type": "stream",
     "text": [
      "Epochs:  33%|███▎      | 166/500 [2:58:23<7:01:32, 75.73s/it]"
     ]
    },
    {
     "name": "stdout",
     "output_type": "stream",
     "text": [
      "Epoch [166/500] Train Loss: 0.0129 | Val Loss: 0.0124\n"
     ]
    },
    {
     "name": "stderr",
     "output_type": "stream",
     "text": [
      "Epochs:  33%|███▎      | 167/500 [2:59:38<6:59:45, 75.63s/it]"
     ]
    },
    {
     "name": "stdout",
     "output_type": "stream",
     "text": [
      "Epoch [167/500] Train Loss: 0.0130 | Val Loss: 0.0115\n"
     ]
    },
    {
     "name": "stderr",
     "output_type": "stream",
     "text": [
      "Epochs:  34%|███▎      | 168/500 [3:00:52<6:55:53, 75.16s/it]"
     ]
    },
    {
     "name": "stdout",
     "output_type": "stream",
     "text": [
      "Epoch [168/500] Train Loss: 0.0116 | Val Loss: 0.0113\n",
      "Epoch [169/500] Train Loss: 0.0131 | Val Loss: 0.0113\n"
     ]
    },
    {
     "name": "stderr",
     "output_type": "stream",
     "text": [
      "Epochs:  34%|███▍      | 170/500 [3:03:23<6:53:49, 75.24s/it]"
     ]
    },
    {
     "name": "stdout",
     "output_type": "stream",
     "text": [
      "Epoch [170/500] Train Loss: 0.0125 | Val Loss: 0.0114\n"
     ]
    },
    {
     "name": "stderr",
     "output_type": "stream",
     "text": [
      "Epochs:  34%|███▍      | 171/500 [3:04:39<6:54:34, 75.61s/it]"
     ]
    },
    {
     "name": "stdout",
     "output_type": "stream",
     "text": [
      "Epoch [171/500] Train Loss: 0.0123 | Val Loss: 0.0119\n"
     ]
    },
    {
     "name": "stderr",
     "output_type": "stream",
     "text": [
      "Epochs:  34%|███▍      | 172/500 [3:05:52<6:48:27, 74.72s/it]"
     ]
    },
    {
     "name": "stdout",
     "output_type": "stream",
     "text": [
      "Epoch [172/500] Train Loss: 0.0122 | Val Loss: 0.0113\n"
     ]
    },
    {
     "name": "stderr",
     "output_type": "stream",
     "text": [
      "Epochs:  35%|███▍      | 173/500 [3:07:08<6:48:50, 75.02s/it]"
     ]
    },
    {
     "name": "stdout",
     "output_type": "stream",
     "text": [
      "Epoch [173/500] Train Loss: 0.0118 | Val Loss: 0.0116\n"
     ]
    },
    {
     "name": "stderr",
     "output_type": "stream",
     "text": [
      "Epochs:  35%|███▍      | 174/500 [3:08:28<6:55:32, 76.48s/it]"
     ]
    },
    {
     "name": "stdout",
     "output_type": "stream",
     "text": [
      "Epoch [174/500] Train Loss: 0.0118 | Val Loss: 0.0116\n"
     ]
    },
    {
     "name": "stderr",
     "output_type": "stream",
     "text": [
      "Epochs:  35%|███▌      | 175/500 [3:09:44<6:54:23, 76.50s/it]"
     ]
    },
    {
     "name": "stdout",
     "output_type": "stream",
     "text": [
      "Epoch [175/500] Train Loss: 0.0118 | Val Loss: 0.0116\n"
     ]
    },
    {
     "name": "stderr",
     "output_type": "stream",
     "text": [
      "Epochs:  35%|███▌      | 176/500 [3:11:00<6:51:58, 76.29s/it]"
     ]
    },
    {
     "name": "stdout",
     "output_type": "stream",
     "text": [
      "Epoch [176/500] Train Loss: 0.0130 | Val Loss: 0.0117\n",
      "Epoch [177/500] Train Loss: 0.0123 | Val Loss: 0.0108\n"
     ]
    },
    {
     "name": "stderr",
     "output_type": "stream",
     "text": [
      "Epochs:  35%|███▌      | 177/500 [3:12:18<6:53:23, 76.79s/it]"
     ]
    },
    {
     "name": "stdout",
     "output_type": "stream",
     "text": [
      "Epoch [178/500] Train Loss: 0.0119 | Val Loss: 0.0104\n"
     ]
    },
    {
     "name": "stderr",
     "output_type": "stream",
     "text": [
      "Epochs:  36%|███▌      | 179/500 [3:14:54<6:53:22, 77.27s/it]"
     ]
    },
    {
     "name": "stdout",
     "output_type": "stream",
     "text": [
      "Epoch [179/500] Train Loss: 0.0121 | Val Loss: 0.0110\n"
     ]
    },
    {
     "name": "stderr",
     "output_type": "stream",
     "text": [
      "Epochs:  36%|███▌      | 180/500 [3:16:11<6:51:59, 77.25s/it]"
     ]
    },
    {
     "name": "stdout",
     "output_type": "stream",
     "text": [
      "Epoch [180/500] Train Loss: 0.0114 | Val Loss: 0.0111\n"
     ]
    },
    {
     "name": "stderr",
     "output_type": "stream",
     "text": [
      "Epochs:  36%|███▌      | 181/500 [3:17:27<6:48:43, 76.88s/it]"
     ]
    },
    {
     "name": "stdout",
     "output_type": "stream",
     "text": [
      "Epoch [181/500] Train Loss: 0.0124 | Val Loss: 0.0120\n"
     ]
    },
    {
     "name": "stderr",
     "output_type": "stream",
     "text": [
      "Epochs:  36%|███▋      | 182/500 [3:18:44<6:46:45, 76.75s/it]"
     ]
    },
    {
     "name": "stdout",
     "output_type": "stream",
     "text": [
      "Epoch [182/500] Train Loss: 0.0117 | Val Loss: 0.0110\n"
     ]
    },
    {
     "name": "stderr",
     "output_type": "stream",
     "text": [
      "Epochs:  37%|███▋      | 183/500 [3:19:58<6:41:20, 75.96s/it]"
     ]
    },
    {
     "name": "stdout",
     "output_type": "stream",
     "text": [
      "Epoch [183/500] Train Loss: 0.0111 | Val Loss: 0.0110\n"
     ]
    },
    {
     "name": "stderr",
     "output_type": "stream",
     "text": [
      "Epochs:  37%|███▋      | 184/500 [3:21:13<6:39:24, 75.84s/it]"
     ]
    },
    {
     "name": "stdout",
     "output_type": "stream",
     "text": [
      "Epoch [184/500] Train Loss: 0.0111 | Val Loss: 0.0105\n"
     ]
    },
    {
     "name": "stderr",
     "output_type": "stream",
     "text": [
      "Epochs:  37%|███▋      | 185/500 [3:22:30<6:38:43, 75.95s/it]"
     ]
    },
    {
     "name": "stdout",
     "output_type": "stream",
     "text": [
      "Epoch [185/500] Train Loss: 0.0112 | Val Loss: 0.0109\n",
      "Epoch [186/500] Train Loss: 0.0114 | Val Loss: 0.0103\n"
     ]
    },
    {
     "name": "stderr",
     "output_type": "stream",
     "text": [
      "Epochs:  37%|███▋      | 187/500 [3:24:56<6:28:31, 74.48s/it]"
     ]
    },
    {
     "name": "stdout",
     "output_type": "stream",
     "text": [
      "Epoch [187/500] Train Loss: 0.0110 | Val Loss: 0.0115\n"
     ]
    },
    {
     "name": "stderr",
     "output_type": "stream",
     "text": [
      "Epochs:  38%|███▊      | 188/500 [3:26:12<6:30:15, 75.05s/it]"
     ]
    },
    {
     "name": "stdout",
     "output_type": "stream",
     "text": [
      "Epoch [188/500] Train Loss: 0.0108 | Val Loss: 0.0116\n"
     ]
    },
    {
     "name": "stderr",
     "output_type": "stream",
     "text": [
      "Epochs:  38%|███▊      | 189/500 [3:27:28<6:29:30, 75.14s/it]"
     ]
    },
    {
     "name": "stdout",
     "output_type": "stream",
     "text": [
      "Epoch [189/500] Train Loss: 0.0114 | Val Loss: 0.0105\n"
     ]
    },
    {
     "name": "stderr",
     "output_type": "stream",
     "text": [
      "Epochs:  38%|███▊      | 190/500 [3:28:44<6:29:35, 75.41s/it]"
     ]
    },
    {
     "name": "stdout",
     "output_type": "stream",
     "text": [
      "Epoch [190/500] Train Loss: 0.0115 | Val Loss: 0.0105\n",
      "Epoch [191/500] Train Loss: 0.0112 | Val Loss: 0.0099\n"
     ]
    },
    {
     "name": "stderr",
     "output_type": "stream",
     "text": [
      "Epochs:  38%|███▊      | 192/500 [3:31:15<6:28:30, 75.69s/it]"
     ]
    },
    {
     "name": "stdout",
     "output_type": "stream",
     "text": [
      "Epoch [192/500] Train Loss: 0.0114 | Val Loss: 0.0106\n"
     ]
    },
    {
     "name": "stderr",
     "output_type": "stream",
     "text": [
      "Epochs:  39%|███▊      | 193/500 [3:32:31<6:27:06, 75.66s/it]"
     ]
    },
    {
     "name": "stdout",
     "output_type": "stream",
     "text": [
      "Epoch [193/500] Train Loss: 0.0104 | Val Loss: 0.0105\n"
     ]
    },
    {
     "name": "stderr",
     "output_type": "stream",
     "text": [
      "Epochs:  39%|███▉      | 194/500 [3:33:46<6:24:56, 75.48s/it]"
     ]
    },
    {
     "name": "stdout",
     "output_type": "stream",
     "text": [
      "Epoch [194/500] Train Loss: 0.0104 | Val Loss: 0.0107\n"
     ]
    },
    {
     "name": "stderr",
     "output_type": "stream",
     "text": [
      "Epochs:  39%|███▉      | 195/500 [3:35:01<6:22:39, 75.28s/it]"
     ]
    },
    {
     "name": "stdout",
     "output_type": "stream",
     "text": [
      "Epoch [195/500] Train Loss: 0.0105 | Val Loss: 0.0105\n",
      "Epoch [196/500] Train Loss: 0.0111 | Val Loss: 0.0099\n"
     ]
    },
    {
     "name": "stderr",
     "output_type": "stream",
     "text": [
      "Epochs:  39%|███▉      | 197/500 [3:37:32<6:20:52, 75.42s/it]"
     ]
    },
    {
     "name": "stdout",
     "output_type": "stream",
     "text": [
      "Epoch [197/500] Train Loss: 0.0112 | Val Loss: 0.0104\n"
     ]
    },
    {
     "name": "stderr",
     "output_type": "stream",
     "text": [
      "Epochs:  40%|███▉      | 198/500 [3:38:48<6:19:24, 75.38s/it]"
     ]
    },
    {
     "name": "stdout",
     "output_type": "stream",
     "text": [
      "Epoch [198/500] Train Loss: 0.0111 | Val Loss: 0.0110\n"
     ]
    },
    {
     "name": "stderr",
     "output_type": "stream",
     "text": [
      "Epochs:  40%|███▉      | 199/500 [3:40:01<6:14:46, 74.71s/it]"
     ]
    },
    {
     "name": "stdout",
     "output_type": "stream",
     "text": [
      "Epoch [199/500] Train Loss: 0.0110 | Val Loss: 0.0103\n"
     ]
    },
    {
     "name": "stderr",
     "output_type": "stream",
     "text": [
      "Epochs:  40%|████      | 200/500 [3:41:16<6:14:05, 74.82s/it]"
     ]
    },
    {
     "name": "stdout",
     "output_type": "stream",
     "text": [
      "Epoch [200/500] Train Loss: 0.0099 | Val Loss: 0.0102\n",
      "Epoch [201/500] Train Loss: 0.0107 | Val Loss: 0.0090\n"
     ]
    },
    {
     "name": "stderr",
     "output_type": "stream",
     "text": [
      "Epochs:  40%|████      | 202/500 [3:43:45<6:11:35, 74.82s/it]"
     ]
    },
    {
     "name": "stdout",
     "output_type": "stream",
     "text": [
      "Epoch [202/500] Train Loss: 0.0101 | Val Loss: 0.0101\n"
     ]
    },
    {
     "name": "stderr",
     "output_type": "stream",
     "text": [
      "Epochs:  41%|████      | 203/500 [3:45:01<6:10:51, 74.92s/it]"
     ]
    },
    {
     "name": "stdout",
     "output_type": "stream",
     "text": [
      "Epoch [203/500] Train Loss: 0.0103 | Val Loss: 0.0098\n"
     ]
    },
    {
     "name": "stderr",
     "output_type": "stream",
     "text": [
      "Epochs:  41%|████      | 204/500 [3:46:15<6:08:58, 74.79s/it]"
     ]
    },
    {
     "name": "stdout",
     "output_type": "stream",
     "text": [
      "Epoch [204/500] Train Loss: 0.0110 | Val Loss: 0.0100\n"
     ]
    },
    {
     "name": "stderr",
     "output_type": "stream",
     "text": [
      "Epochs:  41%|████      | 205/500 [3:47:30<6:08:08, 74.88s/it]"
     ]
    },
    {
     "name": "stdout",
     "output_type": "stream",
     "text": [
      "Epoch [205/500] Train Loss: 0.0111 | Val Loss: 0.0100\n"
     ]
    },
    {
     "name": "stderr",
     "output_type": "stream",
     "text": [
      "Epochs:  41%|████      | 206/500 [3:48:45<6:06:25, 74.78s/it]"
     ]
    },
    {
     "name": "stdout",
     "output_type": "stream",
     "text": [
      "Epoch [206/500] Train Loss: 0.0099 | Val Loss: 0.0100\n"
     ]
    },
    {
     "name": "stderr",
     "output_type": "stream",
     "text": [
      "Epochs:  41%|████▏     | 207/500 [3:50:00<6:05:56, 74.94s/it]"
     ]
    },
    {
     "name": "stdout",
     "output_type": "stream",
     "text": [
      "Epoch [207/500] Train Loss: 0.0105 | Val Loss: 0.0105\n"
     ]
    },
    {
     "name": "stderr",
     "output_type": "stream",
     "text": [
      "Epochs:  42%|████▏     | 208/500 [3:51:15<6:04:48, 74.96s/it]"
     ]
    },
    {
     "name": "stdout",
     "output_type": "stream",
     "text": [
      "Epoch [208/500] Train Loss: 0.0103 | Val Loss: 0.0099\n"
     ]
    },
    {
     "name": "stderr",
     "output_type": "stream",
     "text": [
      "Epochs:  42%|████▏     | 209/500 [3:52:31<6:04:16, 75.11s/it]"
     ]
    },
    {
     "name": "stdout",
     "output_type": "stream",
     "text": [
      "Epoch [209/500] Train Loss: 0.0098 | Val Loss: 0.0093\n"
     ]
    },
    {
     "name": "stderr",
     "output_type": "stream",
     "text": [
      "Epochs:  42%|████▏     | 210/500 [3:53:46<6:03:26, 75.20s/it]"
     ]
    },
    {
     "name": "stdout",
     "output_type": "stream",
     "text": [
      "Epoch [210/500] Train Loss: 0.0114 | Val Loss: 0.0098\n"
     ]
    },
    {
     "name": "stderr",
     "output_type": "stream",
     "text": [
      "Epochs:  42%|████▏     | 211/500 [3:55:02<6:02:48, 75.32s/it]"
     ]
    },
    {
     "name": "stdout",
     "output_type": "stream",
     "text": [
      "Epoch [211/500] Train Loss: 0.0098 | Val Loss: 0.0092\n"
     ]
    },
    {
     "name": "stderr",
     "output_type": "stream",
     "text": [
      "Epochs:  42%|████▏     | 212/500 [3:56:15<5:59:18, 74.86s/it]"
     ]
    },
    {
     "name": "stdout",
     "output_type": "stream",
     "text": [
      "Epoch [212/500] Train Loss: 0.0105 | Val Loss: 0.0097\n"
     ]
    },
    {
     "name": "stderr",
     "output_type": "stream",
     "text": [
      "Epochs:  43%|████▎     | 213/500 [3:57:31<5:58:43, 74.99s/it]"
     ]
    },
    {
     "name": "stdout",
     "output_type": "stream",
     "text": [
      "Epoch [213/500] Train Loss: 0.0105 | Val Loss: 0.0094\n"
     ]
    },
    {
     "name": "stderr",
     "output_type": "stream",
     "text": [
      "Epochs:  43%|████▎     | 214/500 [3:58:46<5:57:39, 75.03s/it]"
     ]
    },
    {
     "name": "stdout",
     "output_type": "stream",
     "text": [
      "Epoch [214/500] Train Loss: 0.0100 | Val Loss: 0.0095\n",
      "Epoch [215/500] Train Loss: 0.0101 | Val Loss: 0.0089\n"
     ]
    },
    {
     "name": "stderr",
     "output_type": "stream",
     "text": [
      "Epochs:  43%|████▎     | 216/500 [4:01:16<5:55:10, 75.04s/it]"
     ]
    },
    {
     "name": "stdout",
     "output_type": "stream",
     "text": [
      "Epoch [216/500] Train Loss: 0.0094 | Val Loss: 0.0091\n",
      "Epoch [217/500] Train Loss: 0.0097 | Val Loss: 0.0089\n"
     ]
    },
    {
     "name": "stderr",
     "output_type": "stream",
     "text": [
      "Epochs:  43%|████▎     | 217/500 [4:02:31<5:54:02, 75.06s/it]"
     ]
    },
    {
     "name": "stdout",
     "output_type": "stream",
     "text": [
      "Epoch [218/500] Train Loss: 0.0104 | Val Loss: 0.0087\n"
     ]
    },
    {
     "name": "stderr",
     "output_type": "stream",
     "text": [
      "Epochs:  44%|████▎     | 218/500 [4:03:47<5:54:51, 75.50s/it]"
     ]
    },
    {
     "name": "stdout",
     "output_type": "stream",
     "text": [
      "Epoch [219/500] Train Loss: 0.0094 | Val Loss: 0.0087\n"
     ]
    },
    {
     "name": "stderr",
     "output_type": "stream",
     "text": [
      "Epochs:  44%|████▍     | 220/500 [4:06:18<5:52:01, 75.43s/it]"
     ]
    },
    {
     "name": "stdout",
     "output_type": "stream",
     "text": [
      "Epoch [220/500] Train Loss: 0.0094 | Val Loss: 0.0090\n"
     ]
    },
    {
     "name": "stderr",
     "output_type": "stream",
     "text": [
      "Epochs:  44%|████▍     | 221/500 [4:07:34<5:51:44, 75.64s/it]"
     ]
    },
    {
     "name": "stdout",
     "output_type": "stream",
     "text": [
      "Epoch [221/500] Train Loss: 0.0089 | Val Loss: 0.0089\n",
      "Epoch [222/500] Train Loss: 0.0099 | Val Loss: 0.0084\n"
     ]
    },
    {
     "name": "stderr",
     "output_type": "stream",
     "text": [
      "Epochs:  45%|████▍     | 223/500 [4:10:06<5:49:57, 75.80s/it]"
     ]
    },
    {
     "name": "stdout",
     "output_type": "stream",
     "text": [
      "Epoch [223/500] Train Loss: 0.0097 | Val Loss: 0.0088\n"
     ]
    },
    {
     "name": "stderr",
     "output_type": "stream",
     "text": [
      "Epochs:  45%|████▍     | 224/500 [4:11:20<5:46:20, 75.29s/it]"
     ]
    },
    {
     "name": "stdout",
     "output_type": "stream",
     "text": [
      "Epoch [224/500] Train Loss: 0.0104 | Val Loss: 0.0089\n"
     ]
    },
    {
     "name": "stderr",
     "output_type": "stream",
     "text": [
      "Epochs:  45%|████▌     | 225/500 [4:12:36<5:45:22, 75.35s/it]"
     ]
    },
    {
     "name": "stdout",
     "output_type": "stream",
     "text": [
      "Epoch [225/500] Train Loss: 0.0094 | Val Loss: 0.0088\n"
     ]
    },
    {
     "name": "stderr",
     "output_type": "stream",
     "text": [
      "Epochs:  45%|████▌     | 226/500 [4:13:50<5:42:49, 75.07s/it]"
     ]
    },
    {
     "name": "stdout",
     "output_type": "stream",
     "text": [
      "Epoch [226/500] Train Loss: 0.0098 | Val Loss: 0.0091\n"
     ]
    },
    {
     "name": "stderr",
     "output_type": "stream",
     "text": [
      "Epochs:  45%|████▌     | 227/500 [4:15:04<5:40:20, 74.80s/it]"
     ]
    },
    {
     "name": "stdout",
     "output_type": "stream",
     "text": [
      "Epoch [227/500] Train Loss: 0.0094 | Val Loss: 0.0084\n"
     ]
    },
    {
     "name": "stderr",
     "output_type": "stream",
     "text": [
      "Epochs:  46%|████▌     | 228/500 [4:16:19<5:39:18, 74.85s/it]"
     ]
    },
    {
     "name": "stdout",
     "output_type": "stream",
     "text": [
      "Epoch [228/500] Train Loss: 0.0095 | Val Loss: 0.0089\n"
     ]
    },
    {
     "name": "stderr",
     "output_type": "stream",
     "text": [
      "Epochs:  46%|████▌     | 229/500 [4:17:34<5:37:49, 74.79s/it]"
     ]
    },
    {
     "name": "stdout",
     "output_type": "stream",
     "text": [
      "Epoch [229/500] Train Loss: 0.0097 | Val Loss: 0.0088\n"
     ]
    },
    {
     "name": "stderr",
     "output_type": "stream",
     "text": [
      "Epochs:  46%|████▌     | 230/500 [4:18:50<5:38:40, 75.26s/it]"
     ]
    },
    {
     "name": "stdout",
     "output_type": "stream",
     "text": [
      "Epoch [230/500] Train Loss: 0.0100 | Val Loss: 0.0090\n"
     ]
    },
    {
     "name": "stderr",
     "output_type": "stream",
     "text": [
      "Epochs:  46%|████▌     | 231/500 [4:20:05<5:36:33, 75.07s/it]"
     ]
    },
    {
     "name": "stdout",
     "output_type": "stream",
     "text": [
      "Epoch [231/500] Train Loss: 0.0098 | Val Loss: 0.0086\n"
     ]
    },
    {
     "name": "stderr",
     "output_type": "stream",
     "text": [
      "Epochs:  46%|████▋     | 232/500 [4:21:21<5:36:13, 75.28s/it]"
     ]
    },
    {
     "name": "stdout",
     "output_type": "stream",
     "text": [
      "Epoch [232/500] Train Loss: 0.0096 | Val Loss: 0.0086\n"
     ]
    },
    {
     "name": "stderr",
     "output_type": "stream",
     "text": [
      "Epochs:  47%|████▋     | 233/500 [4:22:35<5:34:13, 75.11s/it]"
     ]
    },
    {
     "name": "stdout",
     "output_type": "stream",
     "text": [
      "Epoch [233/500] Train Loss: 0.0094 | Val Loss: 0.0090\n"
     ]
    },
    {
     "name": "stderr",
     "output_type": "stream",
     "text": [
      "Epochs:  47%|████▋     | 234/500 [4:23:50<5:32:50, 75.08s/it]"
     ]
    },
    {
     "name": "stdout",
     "output_type": "stream",
     "text": [
      "Epoch [234/500] Train Loss: 0.0095 | Val Loss: 0.0097\n",
      "Epoch [235/500] Train Loss: 0.0101 | Val Loss: 0.0083\n"
     ]
    },
    {
     "name": "stderr",
     "output_type": "stream",
     "text": [
      "Epochs:  47%|████▋     | 236/500 [4:26:20<5:29:39, 74.92s/it]"
     ]
    },
    {
     "name": "stdout",
     "output_type": "stream",
     "text": [
      "Epoch [236/500] Train Loss: 0.0097 | Val Loss: 0.0089\n"
     ]
    },
    {
     "name": "stderr",
     "output_type": "stream",
     "text": [
      "Epochs:  47%|████▋     | 237/500 [4:27:35<5:28:35, 74.96s/it]"
     ]
    },
    {
     "name": "stdout",
     "output_type": "stream",
     "text": [
      "Epoch [237/500] Train Loss: 0.0098 | Val Loss: 0.0085\n"
     ]
    },
    {
     "name": "stderr",
     "output_type": "stream",
     "text": [
      "Epochs:  48%|████▊     | 238/500 [4:28:51<5:28:55, 75.33s/it]"
     ]
    },
    {
     "name": "stdout",
     "output_type": "stream",
     "text": [
      "Epoch [238/500] Train Loss: 0.0092 | Val Loss: 0.0089\n"
     ]
    },
    {
     "name": "stderr",
     "output_type": "stream",
     "text": [
      "Epochs:  48%|████▊     | 239/500 [4:30:07<5:29:09, 75.67s/it]"
     ]
    },
    {
     "name": "stdout",
     "output_type": "stream",
     "text": [
      "Epoch [239/500] Train Loss: 0.0095 | Val Loss: 0.0090\n"
     ]
    },
    {
     "name": "stderr",
     "output_type": "stream",
     "text": [
      "Epochs:  48%|████▊     | 240/500 [4:31:23<5:27:31, 75.58s/it]"
     ]
    },
    {
     "name": "stdout",
     "output_type": "stream",
     "text": [
      "Epoch [240/500] Train Loss: 0.0090 | Val Loss: 0.0086\n"
     ]
    },
    {
     "name": "stderr",
     "output_type": "stream",
     "text": [
      "Epochs:  48%|████▊     | 241/500 [4:32:37<5:24:20, 75.14s/it]"
     ]
    },
    {
     "name": "stdout",
     "output_type": "stream",
     "text": [
      "Epoch [241/500] Train Loss: 0.0091 | Val Loss: 0.0086\n"
     ]
    },
    {
     "name": "stderr",
     "output_type": "stream",
     "text": [
      "Epochs:  48%|████▊     | 242/500 [4:33:51<5:22:06, 74.91s/it]"
     ]
    },
    {
     "name": "stdout",
     "output_type": "stream",
     "text": [
      "Epoch [242/500] Train Loss: 0.0098 | Val Loss: 0.0085\n",
      "Epoch [243/500] Train Loss: 0.0095 | Val Loss: 0.0082\n"
     ]
    },
    {
     "name": "stderr",
     "output_type": "stream",
     "text": [
      "Epochs:  49%|████▉     | 244/500 [4:36:22<5:20:17, 75.07s/it]"
     ]
    },
    {
     "name": "stdout",
     "output_type": "stream",
     "text": [
      "Epoch [244/500] Train Loss: 0.0091 | Val Loss: 0.0088\n"
     ]
    },
    {
     "name": "stderr",
     "output_type": "stream",
     "text": [
      "Epochs:  49%|████▉     | 245/500 [4:37:37<5:19:11, 75.10s/it]"
     ]
    },
    {
     "name": "stdout",
     "output_type": "stream",
     "text": [
      "Epoch [245/500] Train Loss: 0.0095 | Val Loss: 0.0086\n"
     ]
    },
    {
     "name": "stderr",
     "output_type": "stream",
     "text": [
      "Epochs:  49%|████▉     | 246/500 [4:38:52<5:17:58, 75.11s/it]"
     ]
    },
    {
     "name": "stdout",
     "output_type": "stream",
     "text": [
      "Epoch [246/500] Train Loss: 0.0096 | Val Loss: 0.0091\n"
     ]
    },
    {
     "name": "stderr",
     "output_type": "stream",
     "text": [
      "Epochs:  49%|████▉     | 247/500 [4:40:09<5:18:36, 75.56s/it]"
     ]
    },
    {
     "name": "stdout",
     "output_type": "stream",
     "text": [
      "Epoch [247/500] Train Loss: 0.0093 | Val Loss: 0.0085\n"
     ]
    },
    {
     "name": "stderr",
     "output_type": "stream",
     "text": [
      "Epochs:  50%|████▉     | 248/500 [4:41:23<5:16:12, 75.29s/it]"
     ]
    },
    {
     "name": "stdout",
     "output_type": "stream",
     "text": [
      "Epoch [248/500] Train Loss: 0.0094 | Val Loss: 0.0086\n"
     ]
    },
    {
     "name": "stderr",
     "output_type": "stream",
     "text": [
      "Epochs:  50%|████▉     | 249/500 [4:42:38<5:13:57, 75.05s/it]"
     ]
    },
    {
     "name": "stdout",
     "output_type": "stream",
     "text": [
      "Epoch [249/500] Train Loss: 0.0093 | Val Loss: 0.0085\n"
     ]
    },
    {
     "name": "stderr",
     "output_type": "stream",
     "text": [
      "Epochs:  50%|█████     | 250/500 [4:43:53<5:12:50, 75.08s/it]"
     ]
    },
    {
     "name": "stdout",
     "output_type": "stream",
     "text": [
      "Epoch [250/500] Train Loss: 0.0100 | Val Loss: 0.0084\n"
     ]
    },
    {
     "name": "stderr",
     "output_type": "stream",
     "text": [
      "Epochs:  50%|█████     | 251/500 [4:45:08<5:11:59, 75.18s/it]"
     ]
    },
    {
     "name": "stdout",
     "output_type": "stream",
     "text": [
      "Epoch [251/500] Train Loss: 0.0091 | Val Loss: 0.0090\n",
      "Epoch [252/500] Train Loss: 0.0091 | Val Loss: 0.0082\n"
     ]
    },
    {
     "name": "stderr",
     "output_type": "stream",
     "text": [
      "Epochs:  51%|█████     | 253/500 [4:47:41<5:11:28, 75.66s/it]"
     ]
    },
    {
     "name": "stdout",
     "output_type": "stream",
     "text": [
      "Epoch [253/500] Train Loss: 0.0095 | Val Loss: 0.0086\n"
     ]
    },
    {
     "name": "stderr",
     "output_type": "stream",
     "text": [
      "Epochs:  51%|█████     | 254/500 [4:48:57<5:11:17, 75.93s/it]"
     ]
    },
    {
     "name": "stdout",
     "output_type": "stream",
     "text": [
      "Epoch [254/500] Train Loss: 0.0096 | Val Loss: 0.0088\n"
     ]
    },
    {
     "name": "stderr",
     "output_type": "stream",
     "text": [
      "Epochs:  51%|█████     | 255/500 [4:50:13<5:09:39, 75.84s/it]"
     ]
    },
    {
     "name": "stdout",
     "output_type": "stream",
     "text": [
      "Epoch [255/500] Train Loss: 0.0099 | Val Loss: 0.0085\n",
      "Epoch [256/500] Train Loss: 0.0096 | Val Loss: 0.0079\n"
     ]
    },
    {
     "name": "stderr",
     "output_type": "stream",
     "text": [
      "Epochs:  51%|█████▏    | 257/500 [4:52:45<5:06:52, 75.77s/it]"
     ]
    },
    {
     "name": "stdout",
     "output_type": "stream",
     "text": [
      "Epoch [257/500] Train Loss: 0.0098 | Val Loss: 0.0084\n"
     ]
    },
    {
     "name": "stderr",
     "output_type": "stream",
     "text": [
      "Epochs:  52%|█████▏    | 258/500 [4:54:01<5:06:12, 75.92s/it]"
     ]
    },
    {
     "name": "stdout",
     "output_type": "stream",
     "text": [
      "Epoch [258/500] Train Loss: 0.0092 | Val Loss: 0.0091\n"
     ]
    },
    {
     "name": "stderr",
     "output_type": "stream",
     "text": [
      "Epochs:  52%|█████▏    | 259/500 [4:55:16<5:04:14, 75.74s/it]"
     ]
    },
    {
     "name": "stdout",
     "output_type": "stream",
     "text": [
      "Epoch [259/500] Train Loss: 0.0094 | Val Loss: 0.0088\n"
     ]
    },
    {
     "name": "stderr",
     "output_type": "stream",
     "text": [
      "Epochs:  52%|█████▏    | 260/500 [4:56:31<5:01:32, 75.39s/it]"
     ]
    },
    {
     "name": "stdout",
     "output_type": "stream",
     "text": [
      "Epoch [260/500] Train Loss: 0.0101 | Val Loss: 0.0086\n"
     ]
    },
    {
     "name": "stderr",
     "output_type": "stream",
     "text": [
      "Epochs:  52%|█████▏    | 261/500 [4:57:46<4:59:40, 75.23s/it]"
     ]
    },
    {
     "name": "stdout",
     "output_type": "stream",
     "text": [
      "Epoch [261/500] Train Loss: 0.0097 | Val Loss: 0.0087\n"
     ]
    },
    {
     "name": "stderr",
     "output_type": "stream",
     "text": [
      "Epochs:  52%|█████▏    | 262/500 [4:59:01<4:58:29, 75.25s/it]"
     ]
    },
    {
     "name": "stdout",
     "output_type": "stream",
     "text": [
      "Epoch [262/500] Train Loss: 0.0090 | Val Loss: 0.0087\n"
     ]
    },
    {
     "name": "stderr",
     "output_type": "stream",
     "text": [
      "Epochs:  53%|█████▎    | 263/500 [5:00:16<4:57:05, 75.21s/it]"
     ]
    },
    {
     "name": "stdout",
     "output_type": "stream",
     "text": [
      "Epoch [263/500] Train Loss: 0.0093 | Val Loss: 0.0086\n"
     ]
    },
    {
     "name": "stderr",
     "output_type": "stream",
     "text": [
      "Epochs:  53%|█████▎    | 264/500 [5:01:31<4:55:15, 75.06s/it]"
     ]
    },
    {
     "name": "stdout",
     "output_type": "stream",
     "text": [
      "Epoch [264/500] Train Loss: 0.0090 | Val Loss: 0.0086\n"
     ]
    },
    {
     "name": "stderr",
     "output_type": "stream",
     "text": [
      "Epochs:  53%|█████▎    | 265/500 [5:02:46<4:53:51, 75.03s/it]"
     ]
    },
    {
     "name": "stdout",
     "output_type": "stream",
     "text": [
      "Epoch [265/500] Train Loss: 0.0091 | Val Loss: 0.0081\n"
     ]
    },
    {
     "name": "stderr",
     "output_type": "stream",
     "text": [
      "Epochs:  53%|█████▎    | 266/500 [5:04:01<4:52:38, 75.04s/it]"
     ]
    },
    {
     "name": "stdout",
     "output_type": "stream",
     "text": [
      "Epoch [266/500] Train Loss: 0.0092 | Val Loss: 0.0088\n"
     ]
    },
    {
     "name": "stderr",
     "output_type": "stream",
     "text": [
      "Epochs:  53%|█████▎    | 267/500 [5:05:16<4:51:46, 75.13s/it]"
     ]
    },
    {
     "name": "stdout",
     "output_type": "stream",
     "text": [
      "Epoch [267/500] Train Loss: 0.0096 | Val Loss: 0.0084\n"
     ]
    },
    {
     "name": "stderr",
     "output_type": "stream",
     "text": [
      "Epochs:  54%|█████▎    | 268/500 [5:06:33<4:52:01, 75.52s/it]"
     ]
    },
    {
     "name": "stdout",
     "output_type": "stream",
     "text": [
      "Epoch [268/500] Train Loss: 0.0085 | Val Loss: 0.0088\n"
     ]
    },
    {
     "name": "stderr",
     "output_type": "stream",
     "text": [
      "Epochs:  54%|█████▍    | 269/500 [5:07:47<4:49:49, 75.28s/it]"
     ]
    },
    {
     "name": "stdout",
     "output_type": "stream",
     "text": [
      "Epoch [269/500] Train Loss: 0.0091 | Val Loss: 0.0089\n"
     ]
    },
    {
     "name": "stderr",
     "output_type": "stream",
     "text": [
      "Epochs:  54%|█████▍    | 270/500 [5:09:02<4:48:23, 75.23s/it]"
     ]
    },
    {
     "name": "stdout",
     "output_type": "stream",
     "text": [
      "Epoch [270/500] Train Loss: 0.0095 | Val Loss: 0.0087\n"
     ]
    },
    {
     "name": "stderr",
     "output_type": "stream",
     "text": [
      "Epochs:  54%|█████▍    | 271/500 [5:10:18<4:47:47, 75.40s/it]"
     ]
    },
    {
     "name": "stdout",
     "output_type": "stream",
     "text": [
      "Epoch [271/500] Train Loss: 0.0097 | Val Loss: 0.0083\n"
     ]
    },
    {
     "name": "stderr",
     "output_type": "stream",
     "text": [
      "Epochs:  54%|█████▍    | 272/500 [5:11:34<4:46:34, 75.42s/it]"
     ]
    },
    {
     "name": "stdout",
     "output_type": "stream",
     "text": [
      "Epoch [272/500] Train Loss: 0.0091 | Val Loss: 0.0090\n"
     ]
    },
    {
     "name": "stderr",
     "output_type": "stream",
     "text": [
      "Epochs:  55%|█████▍    | 273/500 [5:12:49<4:45:13, 75.39s/it]"
     ]
    },
    {
     "name": "stdout",
     "output_type": "stream",
     "text": [
      "Epoch [273/500] Train Loss: 0.0093 | Val Loss: 0.0088\n"
     ]
    },
    {
     "name": "stderr",
     "output_type": "stream",
     "text": [
      "Epochs:  55%|█████▍    | 274/500 [5:14:04<4:43:49, 75.35s/it]"
     ]
    },
    {
     "name": "stdout",
     "output_type": "stream",
     "text": [
      "Epoch [274/500] Train Loss: 0.0098 | Val Loss: 0.0086\n"
     ]
    },
    {
     "name": "stderr",
     "output_type": "stream",
     "text": [
      "Epochs:  55%|█████▌    | 275/500 [5:15:20<4:42:33, 75.35s/it]"
     ]
    },
    {
     "name": "stdout",
     "output_type": "stream",
     "text": [
      "Epoch [275/500] Train Loss: 0.0096 | Val Loss: 0.0084\n"
     ]
    },
    {
     "name": "stderr",
     "output_type": "stream",
     "text": [
      "Epochs:  55%|█████▌    | 275/500 [5:16:35<4:19:01, 69.07s/it]"
     ]
    },
    {
     "name": "stdout",
     "output_type": "stream",
     "text": [
      "Epoch [276/500] Train Loss: 0.0095 | Val Loss: 0.0085\n",
      "Early stopping at epoch 276\n"
     ]
    },
    {
     "name": "stderr",
     "output_type": "stream",
     "text": [
      "\n"
     ]
    }
   ],
   "source": [
    "from tqdm import trange\n",
    "\n",
    "train_loss_unet, test_loss_unet = [], []\n",
    "\n",
    "num_epochs = 500\n",
    "patience = 20\n",
    "best_val_loss = float('inf')\n",
    "epochs_no_improve = 0\n",
    "\n",
    "for epoch in trange(num_epochs, desc=\"Epochs\"):\n",
    "    unet.train()\n",
    "    running_loss = 0.0\n",
    "    for images, masks, labels in trian_loader:\n",
    "        images = images.to('cuda')\n",
    "        masks = masks.to('cuda').view(-1, 1, 256, 256).float()\n",
    "        # labels = labels.to('cuda')\n",
    "\n",
    "        # --- UNet mask loss ---\n",
    "        optimizer_unet.zero_grad()\n",
    "        mask_pred = unet(images)\n",
    "        loss_mask = criterion_unet(mask_pred, masks)\n",
    "        loss_mask.backward()\n",
    "        optimizer_unet.step()\n",
    "\n",
    "        # --- UNetPredictor classification loss ---\n",
    "        # optimizer_unet_predictor.zero_grad()\n",
    "        # class_pred = model(images)\n",
    "        # loss_class = criterion_prediction(class_pred, labels)\n",
    "        # loss_class.backward()\n",
    "        # optimizer_unet_predictor.step()\n",
    "\n",
    "        running_loss += loss_mask.item()\n",
    "        # running_loss += loss_mask.item() + loss_class.item()\n",
    "\n",
    "    avg_loss = running_loss / len(trian_loader)\n",
    "\n",
    "    # Validation\n",
    "    unet.eval()\n",
    "    val_loss = 0.0\n",
    "    correct = 0\n",
    "    total = 0\n",
    "    with torch.no_grad():\n",
    "        for images, masks, labels in test_loader:\n",
    "            images = images.to('cuda')\n",
    "            masks = masks.to('cuda').view(-1, 1, 256, 256).float()\n",
    "            # labels = labels.to('cuda')\n",
    "            mask_pred = unet(images)\n",
    "            # class_pred = model(images)\n",
    "            loss_mask = criterion_unet(mask_pred, masks)\n",
    "            # loss_class = criterion_prediction(class_pred, labels)\n",
    "            val_loss += loss_mask.item()\n",
    "            # val_loss += loss_mask.item() + loss_class.item()\n",
    "            # _, predicted = torch.max(class_pred, 1)\n",
    "            # correct += (predicted == labels).sum().item()\n",
    "            total += labels.size(0)\n",
    "    val_loss /= len(test_loader)\n",
    "\n",
    "    scheduler.step(val_loss)\n",
    "\n",
    "    # val_acc = 100 * correct / total\n",
    "\n",
    "    # print(f\"Epoch [{epoch+1}/{num_epochs}] Train Loss: {avg_loss:.4f} | Val Loss: {val_loss:.4f} | Val Acc: {val_acc:.2f}%\")\n",
    "    print(f\"Epoch [{epoch+1}/{num_epochs}] Train Loss: {avg_loss:.4f} | Val Loss: {val_loss:.4f}\")\n",
    "    train_loss_unet.append(avg_loss)\n",
    "    test_loss_unet.append(val_loss)\n",
    "\n",
    "    # Early stopping\n",
    "    if val_loss < best_val_loss:\n",
    "        best_val_loss = val_loss\n",
    "        epochs_no_improve = 0\n",
    "        torch.save(unet.state_dict(), 'unet1.pt')\n",
    "    else:\n",
    "        epochs_no_improve += 1\n",
    "        if epochs_no_improve >= patience:\n",
    "            print(f\"Early stopping at epoch {epoch+1}\")\n",
    "            break\n",
    "\n",
    "import pandas as pd\n",
    "train_loss_unet = pd.DataFrame(train_loss_unet)\n",
    "train_loss_unet.to_csv('train_loss_unet1.csv', index= False, header= False)\n",
    "test_loss_unet = pd.DataFrame(test_loss_unet)\n",
    "test_loss_unet.to_csv('test_loss_unet1.csv', index= False, header= False)"
   ]
  },
  {
   "cell_type": "markdown",
   "id": "0b5a6092",
   "metadata": {},
   "source": [
    "### Initializing the entire model"
   ]
  },
  {
   "cell_type": "code",
   "execution_count": 15,
   "id": "4ae8cccc",
   "metadata": {},
   "outputs": [],
   "source": [
    "model = UNetPredictor(unet= unet, predictor= predictor)\n",
    "model = model.to('cuda')"
   ]
  },
  {
   "cell_type": "markdown",
   "id": "ded25197",
   "metadata": {},
   "source": [
    "### Defining the optimizer and scheduler"
   ]
  },
  {
   "cell_type": "code",
   "execution_count": 16,
   "id": "71714d4e",
   "metadata": {},
   "outputs": [],
   "source": [
    "optimizer_unet_predictor = torch.optim.AdamW(model.parameters(), lr = 0.001, weight_decay= 0.001)\n",
    "\n",
    "scheduler_predictor = torch.optim.lr_scheduler.ReduceLROnPlateau(\n",
    "    optimizer_unet,\n",
    "    mode='min',       # 'min' for loss, 'max' for accuracy/metric\n",
    "    factor=0.1,       # multiply LR by this factor\n",
    "    patience=10,       # wait for 5 epochs before reducing LR\n",
    ")"
   ]
  },
  {
   "cell_type": "code",
   "execution_count": 17,
   "id": "47db0ef4",
   "metadata": {},
   "outputs": [
    {
     "name": "stderr",
     "output_type": "stream",
     "text": [
      "Epochs:   0%|          | 0/500 [00:00<?, ?it/s]"
     ]
    },
    {
     "name": "stdout",
     "output_type": "stream",
     "text": [
      "Epoch [1/500] Train Loss: 18.3328 | Val Loss: 1.0652 | Val Acc: 70.90%\n"
     ]
    },
    {
     "name": "stderr",
     "output_type": "stream",
     "text": [
      "Epochs:   0%|          | 1/500 [01:18<10:49:38, 78.11s/it]"
     ]
    },
    {
     "name": "stdout",
     "output_type": "stream",
     "text": [
      "Epoch [2/500] Train Loss: 0.7551 | Val Loss: 0.6705 | Val Acc: 74.87%\n"
     ]
    },
    {
     "name": "stderr",
     "output_type": "stream",
     "text": [
      "Epochs:   0%|          | 2/500 [02:22<9:42:50, 70.22s/it] "
     ]
    },
    {
     "name": "stdout",
     "output_type": "stream",
     "text": [
      "Epoch [3/500] Train Loss: 0.7059 | Val Loss: 0.6665 | Val Acc: 72.05%\n"
     ]
    },
    {
     "name": "stderr",
     "output_type": "stream",
     "text": [
      "Epochs:   1%|          | 3/500 [03:17<8:43:00, 63.14s/it]"
     ]
    },
    {
     "name": "stdout",
     "output_type": "stream",
     "text": [
      "Epoch [4/500] Train Loss: 0.6603 | Val Loss: 0.6617 | Val Acc: 69.74%\n"
     ]
    },
    {
     "name": "stderr",
     "output_type": "stream",
     "text": [
      "Epochs:   1%|          | 4/500 [04:10<8:08:03, 59.04s/it]"
     ]
    },
    {
     "name": "stdout",
     "output_type": "stream",
     "text": [
      "Epoch [5/500] Train Loss: 0.6019 | Val Loss: 0.6386 | Val Acc: 69.23%\n"
     ]
    },
    {
     "name": "stderr",
     "output_type": "stream",
     "text": [
      "Epochs:   1%|          | 5/500 [05:02<7:47:46, 56.70s/it]"
     ]
    },
    {
     "name": "stdout",
     "output_type": "stream",
     "text": [
      "Epoch [6/500] Train Loss: 0.5751 | Val Loss: 0.5322 | Val Acc: 71.92%\n"
     ]
    },
    {
     "name": "stderr",
     "output_type": "stream",
     "text": [
      "Epochs:   1%|          | 6/500 [05:55<7:35:28, 55.32s/it]"
     ]
    },
    {
     "name": "stdout",
     "output_type": "stream",
     "text": [
      "Epoch [7/500] Train Loss: 0.5259 | Val Loss: 0.5255 | Val Acc: 74.74%\n"
     ]
    },
    {
     "name": "stderr",
     "output_type": "stream",
     "text": [
      "Epochs:   2%|▏         | 8/500 [07:39<7:18:38, 53.49s/it]"
     ]
    },
    {
     "name": "stdout",
     "output_type": "stream",
     "text": [
      "Epoch [8/500] Train Loss: 0.6658 | Val Loss: 0.5328 | Val Acc: 76.67%\n"
     ]
    },
    {
     "name": "stderr",
     "output_type": "stream",
     "text": [
      "Epochs:   2%|▏         | 9/500 [08:31<7:13:41, 53.00s/it]"
     ]
    },
    {
     "name": "stdout",
     "output_type": "stream",
     "text": [
      "Epoch [9/500] Train Loss: 0.5953 | Val Loss: 0.5651 | Val Acc: 70.51%\n"
     ]
    },
    {
     "name": "stderr",
     "output_type": "stream",
     "text": [
      "Epochs:   2%|▏         | 10/500 [09:23<7:10:26, 52.71s/it]"
     ]
    },
    {
     "name": "stdout",
     "output_type": "stream",
     "text": [
      "Epoch [10/500] Train Loss: 0.5017 | Val Loss: 0.5632 | Val Acc: 75.26%\n",
      "Epoch [11/500] Train Loss: 0.4760 | Val Loss: 0.4699 | Val Acc: 77.82%\n"
     ]
    },
    {
     "name": "stderr",
     "output_type": "stream",
     "text": [
      "Epochs:   2%|▏         | 12/500 [11:07<7:05:22, 52.30s/it]"
     ]
    },
    {
     "name": "stdout",
     "output_type": "stream",
     "text": [
      "Epoch [12/500] Train Loss: 0.5104 | Val Loss: 0.4918 | Val Acc: 77.44%\n"
     ]
    },
    {
     "name": "stderr",
     "output_type": "stream",
     "text": [
      "Epochs:   3%|▎         | 13/500 [11:57<7:00:30, 51.81s/it]"
     ]
    },
    {
     "name": "stdout",
     "output_type": "stream",
     "text": [
      "Epoch [13/500] Train Loss: 7.8164 | Val Loss: 7.2822 | Val Acc: 36.54%\n"
     ]
    },
    {
     "name": "stderr",
     "output_type": "stream",
     "text": [
      "Epochs:   3%|▎         | 14/500 [12:48<6:57:05, 51.49s/it]"
     ]
    },
    {
     "name": "stdout",
     "output_type": "stream",
     "text": [
      "Epoch [14/500] Train Loss: 1.3490 | Val Loss: 1.0853 | Val Acc: 37.05%\n"
     ]
    },
    {
     "name": "stderr",
     "output_type": "stream",
     "text": [
      "Epochs:   3%|▎         | 15/500 [13:39<6:54:34, 51.29s/it]"
     ]
    },
    {
     "name": "stdout",
     "output_type": "stream",
     "text": [
      "Epoch [15/500] Train Loss: 1.0727 | Val Loss: 1.0600 | Val Acc: 39.49%\n"
     ]
    },
    {
     "name": "stderr",
     "output_type": "stream",
     "text": [
      "Epochs:   3%|▎         | 16/500 [14:29<6:51:24, 51.00s/it]"
     ]
    },
    {
     "name": "stdout",
     "output_type": "stream",
     "text": [
      "Epoch [16/500] Train Loss: 0.9768 | Val Loss: 1.1261 | Val Acc: 30.38%\n"
     ]
    },
    {
     "name": "stderr",
     "output_type": "stream",
     "text": [
      "Epochs:   3%|▎         | 17/500 [15:20<6:49:40, 50.89s/it]"
     ]
    },
    {
     "name": "stdout",
     "output_type": "stream",
     "text": [
      "Epoch [17/500] Train Loss: 1.0975 | Val Loss: 1.1038 | Val Acc: 31.28%\n"
     ]
    },
    {
     "name": "stderr",
     "output_type": "stream",
     "text": [
      "Epochs:   4%|▎         | 18/500 [16:11<6:48:57, 50.91s/it]"
     ]
    },
    {
     "name": "stdout",
     "output_type": "stream",
     "text": [
      "Epoch [18/500] Train Loss: 1.0997 | Val Loss: 1.0972 | Val Acc: 35.00%\n"
     ]
    },
    {
     "name": "stderr",
     "output_type": "stream",
     "text": [
      "Epochs:   4%|▍         | 19/500 [17:01<6:47:00, 50.77s/it]"
     ]
    },
    {
     "name": "stdout",
     "output_type": "stream",
     "text": [
      "Epoch [19/500] Train Loss: 1.1006 | Val Loss: 1.1003 | Val Acc: 28.72%\n"
     ]
    },
    {
     "name": "stderr",
     "output_type": "stream",
     "text": [
      "Epochs:   4%|▍         | 20/500 [17:52<6:45:52, 50.73s/it]"
     ]
    },
    {
     "name": "stdout",
     "output_type": "stream",
     "text": [
      "Epoch [20/500] Train Loss: 1.0999 | Val Loss: 1.1021 | Val Acc: 33.72%\n"
     ]
    },
    {
     "name": "stderr",
     "output_type": "stream",
     "text": [
      "Epochs:   4%|▍         | 21/500 [18:42<6:44:21, 50.65s/it]"
     ]
    },
    {
     "name": "stdout",
     "output_type": "stream",
     "text": [
      "Epoch [21/500] Train Loss: 1.1008 | Val Loss: 1.1004 | Val Acc: 33.08%\n"
     ]
    },
    {
     "name": "stderr",
     "output_type": "stream",
     "text": [
      "Epochs:   4%|▍         | 22/500 [19:33<6:43:24, 50.64s/it]"
     ]
    },
    {
     "name": "stdout",
     "output_type": "stream",
     "text": [
      "Epoch [22/500] Train Loss: 1.1015 | Val Loss: 1.0995 | Val Acc: 33.21%\n"
     ]
    },
    {
     "name": "stderr",
     "output_type": "stream",
     "text": [
      "Epochs:   5%|▍         | 23/500 [20:24<6:42:40, 50.65s/it]"
     ]
    },
    {
     "name": "stdout",
     "output_type": "stream",
     "text": [
      "Epoch [23/500] Train Loss: 1.1014 | Val Loss: 1.0992 | Val Acc: 33.33%\n"
     ]
    },
    {
     "name": "stderr",
     "output_type": "stream",
     "text": [
      "Epochs:   5%|▍         | 24/500 [21:14<6:41:28, 50.61s/it]"
     ]
    },
    {
     "name": "stdout",
     "output_type": "stream",
     "text": [
      "Epoch [24/500] Train Loss: 1.0966 | Val Loss: 1.0967 | Val Acc: 36.92%\n"
     ]
    },
    {
     "name": "stderr",
     "output_type": "stream",
     "text": [
      "Epochs:   5%|▌         | 25/500 [22:05<6:40:16, 50.56s/it]"
     ]
    },
    {
     "name": "stdout",
     "output_type": "stream",
     "text": [
      "Epoch [25/500] Train Loss: 1.0987 | Val Loss: 1.1009 | Val Acc: 31.67%\n"
     ]
    },
    {
     "name": "stderr",
     "output_type": "stream",
     "text": [
      "Epochs:   5%|▌         | 26/500 [22:55<6:38:45, 50.48s/it]"
     ]
    },
    {
     "name": "stdout",
     "output_type": "stream",
     "text": [
      "Epoch [26/500] Train Loss: 1.0981 | Val Loss: 1.0992 | Val Acc: 31.79%\n"
     ]
    },
    {
     "name": "stderr",
     "output_type": "stream",
     "text": [
      "Epochs:   5%|▌         | 27/500 [23:45<6:37:05, 50.37s/it]"
     ]
    },
    {
     "name": "stdout",
     "output_type": "stream",
     "text": [
      "Epoch [27/500] Train Loss: 1.0986 | Val Loss: 1.0992 | Val Acc: 33.72%\n"
     ]
    },
    {
     "name": "stderr",
     "output_type": "stream",
     "text": [
      "Epochs:   6%|▌         | 28/500 [24:35<6:35:57, 50.33s/it]"
     ]
    },
    {
     "name": "stdout",
     "output_type": "stream",
     "text": [
      "Epoch [28/500] Train Loss: 1.0963 | Val Loss: 1.0996 | Val Acc: 33.46%\n"
     ]
    },
    {
     "name": "stderr",
     "output_type": "stream",
     "text": [
      "Epochs:   6%|▌         | 29/500 [25:26<6:34:42, 50.28s/it]"
     ]
    },
    {
     "name": "stdout",
     "output_type": "stream",
     "text": [
      "Epoch [29/500] Train Loss: 1.1006 | Val Loss: 1.0987 | Val Acc: 34.74%\n"
     ]
    },
    {
     "name": "stderr",
     "output_type": "stream",
     "text": [
      "Epochs:   6%|▌         | 30/500 [26:15<6:33:04, 50.18s/it]"
     ]
    },
    {
     "name": "stdout",
     "output_type": "stream",
     "text": [
      "Epoch [30/500] Train Loss: 1.0992 | Val Loss: 1.0988 | Val Acc: 34.23%\n"
     ]
    },
    {
     "name": "stderr",
     "output_type": "stream",
     "text": [
      "Epochs:   6%|▌         | 30/500 [27:06<7:04:34, 54.20s/it]"
     ]
    },
    {
     "name": "stdout",
     "output_type": "stream",
     "text": [
      "Epoch [31/500] Train Loss: 1.1006 | Val Loss: 1.0992 | Val Acc: 31.28%\n",
      "Early stopping at epoch 31\n"
     ]
    },
    {
     "name": "stderr",
     "output_type": "stream",
     "text": [
      "\n"
     ]
    }
   ],
   "source": [
    "from tqdm import trange\n",
    "\n",
    "train_loss_unetpredictor, test_loss_unetpredictor = [], []\n",
    "\n",
    "num_epochs = 500\n",
    "patience = 20\n",
    "best_val_loss = float('inf')\n",
    "epochs_no_improve = 0\n",
    "\n",
    "for epoch in trange(num_epochs, desc=\"Epochs\"):\n",
    "    model.train()\n",
    "    running_loss = 0.0\n",
    "    for images, masks, labels in trian_loader:\n",
    "        images = images.to('cuda')\n",
    "        masks = masks.to('cuda').view(-1, 1, 256, 256).float()\n",
    "        labels = labels.to('cuda')\n",
    "\n",
    "        # --- UNet mask loss ---\n",
    "        # optimizer_unet.zero_grad()\n",
    "        # mask_pred = unet(images)\n",
    "        # loss_mask = criterion_unet(mask_pred, masks)\n",
    "        # loss_mask.backward()\n",
    "        # optimizer_unet.step()\n",
    "\n",
    "        # --- UNetPredictor classification loss ---\n",
    "        optimizer_unet_predictor.zero_grad()\n",
    "        class_pred = model(images)\n",
    "        loss_class = criterion_prediction(class_pred, labels)\n",
    "        loss_class.backward()\n",
    "        optimizer_unet_predictor.step()\n",
    "\n",
    "        # running_loss += loss_mask.item()\n",
    "        running_loss += loss_class.item()\n",
    "\n",
    "    avg_loss = running_loss / len(trian_loader)\n",
    "\n",
    "    # Validation\n",
    "    model.eval()\n",
    "    val_loss = 0.0\n",
    "    correct = 0\n",
    "    total = 0\n",
    "    with torch.no_grad():\n",
    "        for images, masks, labels in test_loader:\n",
    "            images = images.to('cuda')\n",
    "            masks = masks.to('cuda').view(-1, 1, 256, 256).float()\n",
    "            labels = labels.to('cuda')\n",
    "            mask_pred = unet(images)\n",
    "            class_pred = model(images)\n",
    "            # loss_mask = criterion_unet(mask_pred, masks)\n",
    "            loss_class = criterion_prediction(class_pred, labels)\n",
    "            # val_loss += loss_mask.item()\n",
    "            val_loss += loss_class.item()\n",
    "            _, predicted = torch.max(class_pred, 1)\n",
    "            correct += (predicted == labels).sum().item()\n",
    "            total += labels.size(0)\n",
    "    val_loss /= len(test_loader)\n",
    "\n",
    "    scheduler_predictor.step(val_loss)\n",
    "\n",
    "    val_acc = 100 * correct / total\n",
    "\n",
    "    print(f\"Epoch [{epoch+1}/{num_epochs}] Train Loss: {avg_loss:.4f} | Val Loss: {val_loss:.4f} | Val Acc: {val_acc:.2f}%\")\n",
    "    # print(f\"Epoch [{epoch+1}/{num_epochs}] Train Loss: {avg_loss:.4f} | Val Loss: {val_loss:.4f}\")\n",
    "    train_loss_unetpredictor.append(avg_loss)\n",
    "    test_loss_unetpredictor.append(val_loss)\n",
    "\n",
    "    # Early stopping\n",
    "    if val_loss < best_val_loss:\n",
    "        best_val_loss = val_loss\n",
    "        epochs_no_improve = 0\n",
    "        torch.save(model.state_dict(), 'model1.pt')\n",
    "    else:\n",
    "        epochs_no_improve += 1\n",
    "        if epochs_no_improve >= patience:\n",
    "            print(f\"Early stopping at epoch {epoch+1}\")\n",
    "            break\n",
    "\n",
    "import pandas as pd\n",
    "train_loss_unetpredictor = pd.DataFrame(train_loss_unetpredictor)\n",
    "train_loss_unetpredictor.to_csv('train_loss_predictor1.csv', index= False, header= False)\n",
    "test_loss_unetpredictor = pd.DataFrame(test_loss_unetpredictor)\n",
    "test_loss_unetpredictor.to_csv('test_loss_predictor1.csv', index= False, header= False)"
   ]
  },
  {
   "cell_type": "code",
   "execution_count": null,
   "id": "37488562",
   "metadata": {},
   "outputs": [],
   "source": [
    "from tqdm import trange\n",
    "\n",
    "for param in model.layer.parameters():\n",
    "    param.requires_grad = True\n",
    "\n",
    "train_loss_unetpredictor, test_loss_unetpredictor = [], []\n",
    "\n",
    "num_epochs = 500\n",
    "patience = 20\n",
    "best_val_loss = float('inf')\n",
    "epochs_no_improve = 0\n",
    "\n",
    "for epoch in trange(num_epochs, desc=\"Epochs\"):\n",
    "    model.train()\n",
    "    running_loss = 0.0\n",
    "    for images, masks, labels in trian_loader:\n",
    "        images = images.to('cuda')\n",
    "        masks = masks.to('cuda').view(-1, 1, 256, 256).float()\n",
    "        labels = labels.to('cuda')\n",
    "\n",
    "        # --- UNetPredictor classification loss ---\n",
    "        optimizer_unet_predictor.zero_grad()\n",
    "        class_pred = model(images)\n",
    "        loss_class = criterion_prediction(class_pred, labels)\n",
    "        loss_class.backward()\n",
    "        optimizer_unet_predictor.step()\n",
    "\n",
    "        # running_loss += loss_mask.item()\n",
    "        running_loss += loss_class.item()\n",
    "\n",
    "    avg_loss = running_loss / len(trian_loader)\n",
    "\n",
    "    # Validation\n",
    "    model.eval()\n",
    "    val_loss = 0.0\n",
    "    correct = 0\n",
    "    total = 0\n",
    "    with torch.no_grad():\n",
    "        for images, masks, labels in test_loader:\n",
    "            images = images.to('cuda')\n",
    "            masks = masks.to('cuda').view(-1, 1, 256, 256).float()\n",
    "            labels = labels.to('cuda')\n",
    "            mask_pred = unet(images)\n",
    "            class_pred = model(images)\n",
    "            # loss_mask = criterion_unet(mask_pred, masks)\n",
    "            loss_class = criterion_prediction(class_pred, labels)\n",
    "            # val_loss += loss_mask.item()\n",
    "            val_loss += loss_class.item()\n",
    "            _, predicted = torch.max(class_pred, 1)\n",
    "            correct += (predicted == labels).sum().item()\n",
    "            total += labels.size(0)\n",
    "    val_loss /= len(test_loader)\n",
    "\n",
    "    scheduler_predictor.step(val_loss)\n",
    "\n",
    "    val_acc = 100 * correct / total\n",
    "\n",
    "    print(f\"Epoch [{epoch+1}/{num_epochs}] Train Loss: {avg_loss:.4f} | Val Loss: {val_loss:.4f} | Val Acc: {val_acc:.2f}%\")\n",
    "    # print(f\"Epoch [{epoch+1}/{num_epochs}] Train Loss: {avg_loss:.4f} | Val Loss: {val_loss:.4f}\")\n",
    "    train_loss_unetpredictor.append(avg_loss)\n",
    "    test_loss_unetpredictor.append(val_loss)\n",
    "\n",
    "    # Early stopping\n",
    "    if val_loss < best_val_loss:\n",
    "        best_val_loss = val_loss\n",
    "        epochs_no_improve = 0\n",
    "        torch.save(model.state_dict(), 'model1.pt')\n",
    "    else:\n",
    "        epochs_no_improve += 1\n",
    "        if epochs_no_improve >= patience:\n",
    "            print(f\"Early stopping at epoch {epoch+1}\")\n",
    "            break\n",
    "\n",
    "import pandas as pd\n",
    "train_loss_unetpredictor = pd.DataFrame(train_loss_unetpredictor)\n",
    "train_loss_unetpredictor.to_csv('train_loss_predictor1.csv', index= False, header= False)\n",
    "test_loss_unetpredictor = pd.DataFrame(test_loss_unetpredictor)\n",
    "test_loss_unetpredictor.to_csv('test_loss_predictor1.csv', index= False, header= False)"
   ]
  }
 ],
 "metadata": {
  "kernelspec": {
   "display_name": "venv (3.12.10)",
   "language": "python",
   "name": "python3"
  },
  "language_info": {
   "codemirror_mode": {
    "name": "ipython",
    "version": 3
   },
   "file_extension": ".py",
   "mimetype": "text/x-python",
   "name": "python",
   "nbconvert_exporter": "python",
   "pygments_lexer": "ipython3",
   "version": "3.12.10"
  }
 },
 "nbformat": 4,
 "nbformat_minor": 5
}
